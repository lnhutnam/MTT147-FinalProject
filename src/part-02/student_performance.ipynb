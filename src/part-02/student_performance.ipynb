{
 "cells": [
  {
   "cell_type": "markdown",
   "metadata": {},
   "source": [
    "# PHÂN TÍCH HIỆU SUẤT HỌC TẬP CỦA SINH VIÊN"
   ]
  },
  {
   "cell_type": "markdown",
   "metadata": {},
   "source": [
    "Thành viên:\n",
    "- 23C24004 - Lê Nhựt Nam\n",
    "- 23C24005 - Phạm Thừa Tiểu Thành"
   ]
  },
  {
   "cell_type": "markdown",
   "metadata": {},
   "source": [
    "## Giới thiệu chung"
   ]
  },
  {
   "cell_type": "markdown",
   "metadata": {},
   "source": []
  },
  {
   "cell_type": "markdown",
   "metadata": {},
   "source": [
    "## Phát biểu bài toán"
   ]
  },
  {
   "cell_type": "markdown",
   "metadata": {},
   "source": []
  },
  {
   "cell_type": "markdown",
   "metadata": {},
   "source": [
    "## Giới thiệu về dữ liệu"
   ]
  },
  {
   "cell_type": "markdown",
   "metadata": {},
   "source": []
  },
  {
   "cell_type": "markdown",
   "metadata": {},
   "source": [
    "## Các câu hỏi phân tích"
   ]
  },
  {
   "cell_type": "markdown",
   "metadata": {},
   "source": []
  },
  {
   "cell_type": "markdown",
   "metadata": {},
   "source": [
    "## Import thư viện"
   ]
  },
  {
   "cell_type": "code",
   "execution_count": 2,
   "metadata": {
    "vscode": {
     "languageId": "r"
    }
   },
   "outputs": [],
   "source": [
    "library(dplyr)\n",
    "library(tidyr)\n",
    "library(car)\n",
    "library(readxl)\n",
    "library(mice)\n",
    "library(VIM)\n",
    "library(grid)\n",
    "library(ggplot2)\n",
    "library(cowplot)\n",
    "library(missMDA)\n",
    "library(FactoMineR)\n",
    "library(TidyDensity)\n",
    "library(MASS)\n",
    "library(leaps)\n",
    "library(lmtest)\n",
    "library(Metrics)"
   ]
  },
  {
   "cell_type": "markdown",
   "metadata": {},
   "source": [
    "## Hàm phụ trợ"
   ]
  },
  {
   "cell_type": "code",
   "execution_count": 3,
   "metadata": {
    "vscode": {
     "languageId": "r"
    }
   },
   "outputs": [],
   "source": [
    "remove_high_vif <- function(regr_variable, data, threshold = 5) {      \n",
    "    stop <- FALSE\n",
    "    while(stop == FALSE) {\n",
    "        # Tính VIF cho các biến độc lập\n",
    "        model <- lm(as.formula(paste(regr_variable, \"~ .\")), data = data)\n",
    "        vif_values <- vif(model)\n",
    "        # Tìm các biến có VIF cao hơn ngưỡng\n",
    "        high_vif <- which(vif_values > threshold)\n",
    "        \n",
    "        if (length(high_vif) > 0) {\n",
    "            # Loại bỏ các biến có VIF cao\n",
    "            remove_index <- which.max(high_vif)\n",
    "            rm_names <- names(data[, !names(data) %in% regr_variable])\n",
    "            rm_name <- rm_names[remove_index]\n",
    "            data <- data[, !names(data) %in% rm_name]\n",
    "        } else {\n",
    "            stop <- TRUE\n",
    "        }\n",
    "    }\n",
    "    return(data)\n",
    "}"
   ]
  },
  {
   "cell_type": "markdown",
   "metadata": {},
   "source": [
    "## Đọc dữ liệu"
   ]
  },
  {
   "cell_type": "code",
   "execution_count": 7,
   "metadata": {
    "vscode": {
     "languageId": "r"
    }
   },
   "outputs": [
    {
     "name": "stdout",
     "output_type": "stream",
     "text": [
      "[1] 382\n",
      "'data.frame':\t382 obs. of  53 variables:\n",
      " $ school      : chr  \"GP\" \"GP\" \"GP\" \"GP\" ...\n",
      " $ sex         : chr  \"F\" \"F\" \"F\" \"F\" ...\n",
      " $ age         : int  15 15 15 15 15 15 15 15 15 15 ...\n",
      " $ address     : chr  \"R\" \"R\" \"R\" \"R\" ...\n",
      " $ famsize     : chr  \"GT3\" \"GT3\" \"GT3\" \"GT3\" ...\n",
      " $ Pstatus     : chr  \"T\" \"T\" \"T\" \"T\" ...\n",
      " $ Medu        : int  1 1 2 2 3 3 3 2 3 3 ...\n",
      " $ Fedu        : int  1 1 2 4 3 4 4 2 1 3 ...\n",
      " $ Mjob        : chr  \"at_home\" \"other\" \"at_home\" \"services\" ...\n",
      " $ Fjob        : chr  \"other\" \"other\" \"other\" \"health\" ...\n",
      " $ reason      : chr  \"home\" \"reputation\" \"reputation\" \"course\" ...\n",
      " $ nursery     : chr  \"yes\" \"no\" \"yes\" \"yes\" ...\n",
      " $ internet    : chr  \"yes\" \"yes\" \"no\" \"yes\" ...\n",
      " $ guardian.x  : chr  \"mother\" \"mother\" \"mother\" \"mother\" ...\n",
      " $ traveltime.x: int  2 1 1 1 2 1 2 2 2 1 ...\n",
      " $ studytime.x : int  4 2 1 3 3 3 3 2 4 4 ...\n",
      " $ failures.x  : int  1 2 0 0 2 0 2 0 0 0 ...\n",
      " $ schoolsup.x : chr  \"yes\" \"yes\" \"yes\" \"yes\" ...\n",
      " $ famsup.x    : chr  \"yes\" \"yes\" \"yes\" \"yes\" ...\n",
      " $ paid.x      : chr  \"yes\" \"no\" \"yes\" \"yes\" ...\n",
      " $ activities.x: chr  \"yes\" \"no\" \"yes\" \"yes\" ...\n",
      " $ higher.x    : chr  \"yes\" \"yes\" \"yes\" \"yes\" ...\n",
      " $ romantic.x  : chr  \"no\" \"yes\" \"no\" \"no\" ...\n",
      " $ famrel.x    : int  3 3 4 4 4 4 4 4 4 4 ...\n",
      " $ freetime.x  : int  1 3 3 3 2 3 2 1 4 3 ...\n",
      " $ goout.x     : int  2 4 1 2 1 2 2 3 2 3 ...\n",
      " $ Dalc.x      : int  1 2 1 1 2 1 2 1 2 1 ...\n",
      " $ Walc.x      : int  1 4 1 1 3 1 2 3 3 1 ...\n",
      " $ health.x    : int  1 5 2 5 3 5 5 4 3 4 ...\n",
      " $ absences.x  : int  2 2 8 2 8 2 0 2 12 10 ...\n",
      " $ G1.x        : int  7 8 14 10 10 12 12 8 16 10 ...\n",
      " $ G2.x        : int  10 6 13 9 10 12 0 9 16 11 ...\n",
      " $ G3.x        : int  10 5 13 8 10 11 0 8 16 11 ...\n",
      " $ guardian.y  : chr  \"mother\" \"mother\" \"mother\" \"mother\" ...\n",
      " $ traveltime.y: int  2 1 1 1 2 1 2 2 2 1 ...\n",
      " $ studytime.y : int  4 2 1 3 3 3 3 2 4 4 ...\n",
      " $ failures.y  : int  0 0 0 0 0 0 0 0 0 0 ...\n",
      " $ schoolsup.y : chr  \"yes\" \"yes\" \"yes\" \"yes\" ...\n",
      " $ famsup.y    : chr  \"yes\" \"yes\" \"yes\" \"yes\" ...\n",
      " $ paid.y      : chr  \"yes\" \"no\" \"no\" \"no\" ...\n",
      " $ activities.y: chr  \"yes\" \"no\" \"yes\" \"yes\" ...\n",
      " $ higher.y    : chr  \"yes\" \"yes\" \"yes\" \"yes\" ...\n",
      " $ romantic.y  : chr  \"no\" \"yes\" \"no\" \"no\" ...\n",
      " $ famrel.y    : int  3 3 4 4 4 4 4 4 4 4 ...\n",
      " $ freetime.y  : int  1 3 3 3 2 3 2 1 4 3 ...\n",
      " $ goout.y     : int  2 4 1 2 1 2 2 3 2 3 ...\n",
      " $ Dalc.y      : int  1 2 1 1 2 1 2 1 2 1 ...\n",
      " $ Walc.y      : int  1 4 1 1 3 1 2 3 3 1 ...\n",
      " $ health.y    : int  1 5 2 5 3 5 5 4 3 4 ...\n",
      " $ absences.y  : int  4 2 8 2 2 2 0 0 6 10 ...\n",
      " $ G1.y        : int  13 13 14 10 13 11 10 11 15 10 ...\n",
      " $ G2.y        : int  13 11 13 11 13 12 11 10 15 10 ...\n",
      " $ G3.y        : int  13 11 12 10 13 12 12 11 15 10 ...\n"
     ]
    }
   ],
   "source": [
    "# Đọc dữ liệu từ tập tin\n",
    "d1=read.table(\"../../data/part2/student+performance/student-mat.csv\",sep=\";\",header=TRUE)\n",
    "d2=read.table(\"../../data/part2/student+performance/student-por.csv\",sep=\";\",header=TRUE)\n",
    "\n",
    "raw_data=merge(d1,d2,by=c(\"school\",\"sex\",\"age\",\"address\",\"famsize\",\"Pstatus\",\"Medu\",\"Fedu\",\"Mjob\",\"Fjob\",\"reason\",\"nursery\",\"internet\"))\n",
    "print(nrow(d3)) # 382 students\n",
    "str(raw_data)\n"
   ]
  },
  {
   "cell_type": "markdown",
   "metadata": {},
   "source": [
    "## Khám phá và tiền xử lý dữ liệu"
   ]
  },
  {
   "cell_type": "markdown",
   "metadata": {},
   "source": [
    "### Dữ liệu có bao nhiều dòng và bao nhiêu cột?"
   ]
  },
  {
   "cell_type": "code",
   "execution_count": 8,
   "metadata": {
    "vscode": {
     "languageId": "r"
    }
   },
   "outputs": [
    {
     "data": {
      "text/html": [
       "<style>\n",
       ".list-inline {list-style: none; margin:0; padding: 0}\n",
       ".list-inline>li {display: inline-block}\n",
       ".list-inline>li:not(:last-child)::after {content: \"\\00b7\"; padding: 0 .5ex}\n",
       "</style>\n",
       "<ol class=list-inline><li>382</li><li>53</li></ol>\n"
      ],
      "text/latex": [
       "\\begin{enumerate*}\n",
       "\\item 382\n",
       "\\item 53\n",
       "\\end{enumerate*}\n"
      ],
      "text/markdown": [
       "1. 382\n",
       "2. 53\n",
       "\n",
       "\n"
      ],
      "text/plain": [
       "[1] 382  53"
      ]
     },
     "metadata": {},
     "output_type": "display_data"
    }
   ],
   "source": [
    "# Kích thước của dữ liệu\n",
    "# Ta thấy dữ liệu có 231 dòng và 14 cột\n",
    "dim(raw_data)"
   ]
  },
  {
   "cell_type": "markdown",
   "metadata": {},
   "source": [
    "### Mỗi dòng có ý nghĩa gì? Liệu có tồn tại dòng nào mà mang ý nghĩa khác với các dòng còn lại không?"
   ]
  },
  {
   "cell_type": "markdown",
   "metadata": {},
   "source": [
    "Dựa trên thông tin của tập dữ liệu, ta thấy mỗi dòng mang ý nghĩa khác nhau, tức là mỗi quan trắc độc lập nhau."
   ]
  },
  {
   "cell_type": "markdown",
   "metadata": {},
   "source": [
    "### Dữ liệu có bị trùng lặp không?"
   ]
  },
  {
   "cell_type": "code",
   "execution_count": 9,
   "metadata": {
    "vscode": {
     "languageId": "r"
    }
   },
   "outputs": [
    {
     "name": "stderr",
     "output_type": "stream",
     "text": [
      "Warning message in cbind(parts$left, chars$ellip_h, parts$right, deparse.level = 0L):\n",
      "“number of rows of result is not a multiple of vector length (arg 2)”\n",
      "Warning message in cbind(parts$left, chars$ellip_h, parts$right, deparse.level = 0L):\n",
      "“number of rows of result is not a multiple of vector length (arg 2)”\n",
      "Warning message in cbind(parts$left, chars$ellip_h, parts$right, deparse.level = 0L):\n",
      "“number of rows of result is not a multiple of vector length (arg 2)”\n",
      "Warning message in cbind(parts$left, chars$ellip_h, parts$right, deparse.level = 0L):\n",
      "“number of rows of result is not a multiple of vector length (arg 2)”\n"
     ]
    },
    {
     "data": {
      "text/html": [
       "<table class=\"dataframe\">\n",
       "<caption>A data.frame: 0 × 53</caption>\n",
       "<thead>\n",
       "\t<tr><th scope=col>school</th><th scope=col>sex</th><th scope=col>age</th><th scope=col>address</th><th scope=col>famsize</th><th scope=col>Pstatus</th><th scope=col>Medu</th><th scope=col>Fedu</th><th scope=col>Mjob</th><th scope=col>Fjob</th><th scope=col>⋯</th><th scope=col>famrel.y</th><th scope=col>freetime.y</th><th scope=col>goout.y</th><th scope=col>Dalc.y</th><th scope=col>Walc.y</th><th scope=col>health.y</th><th scope=col>absences.y</th><th scope=col>G1.y</th><th scope=col>G2.y</th><th scope=col>G3.y</th></tr>\n",
       "\t<tr><th scope=col>&lt;chr&gt;</th><th scope=col>&lt;chr&gt;</th><th scope=col>&lt;int&gt;</th><th scope=col>&lt;chr&gt;</th><th scope=col>&lt;chr&gt;</th><th scope=col>&lt;chr&gt;</th><th scope=col>&lt;int&gt;</th><th scope=col>&lt;int&gt;</th><th scope=col>&lt;chr&gt;</th><th scope=col>&lt;chr&gt;</th><th scope=col>⋯</th><th scope=col>&lt;int&gt;</th><th scope=col>&lt;int&gt;</th><th scope=col>&lt;int&gt;</th><th scope=col>&lt;int&gt;</th><th scope=col>&lt;int&gt;</th><th scope=col>&lt;int&gt;</th><th scope=col>&lt;int&gt;</th><th scope=col>&lt;int&gt;</th><th scope=col>&lt;int&gt;</th><th scope=col>&lt;int&gt;</th></tr>\n",
       "</thead>\n",
       "<tbody>\n",
       "</tbody>\n",
       "</table>\n"
      ],
      "text/latex": [
       "A data.frame: 0 × 53\n",
       "\\begin{tabular}{lllllllllllllllllllll}\n",
       " school & sex & age & address & famsize & Pstatus & Medu & Fedu & Mjob & Fjob & ⋯ & famrel.y & freetime.y & goout.y & Dalc.y & Walc.y & health.y & absences.y & G1.y & G2.y & G3.y\\\\\n",
       " <chr> & <chr> & <int> & <chr> & <chr> & <chr> & <int> & <int> & <chr> & <chr> & ⋯ & <int> & <int> & <int> & <int> & <int> & <int> & <int> & <int> & <int> & <int>\\\\\n",
       "\\hline\n",
       "\\end{tabular}\n"
      ],
      "text/markdown": [
       "\n",
       "A data.frame: 0 × 53\n",
       "\n",
       "| school &lt;chr&gt; | sex &lt;chr&gt; | age &lt;int&gt; | address &lt;chr&gt; | famsize &lt;chr&gt; | Pstatus &lt;chr&gt; | Medu &lt;int&gt; | Fedu &lt;int&gt; | Mjob &lt;chr&gt; | Fjob &lt;chr&gt; | ⋯ ⋯ | famrel.y &lt;int&gt; | freetime.y &lt;int&gt; | goout.y &lt;int&gt; | Dalc.y &lt;int&gt; | Walc.y &lt;int&gt; | health.y &lt;int&gt; | absences.y &lt;int&gt; | G1.y &lt;int&gt; | G2.y &lt;int&gt; | G3.y &lt;int&gt; |\n",
       "|---|---|---|---|---|---|---|---|---|---|---|---|---|---|---|---|---|---|---|---|---|\n",
       "\n"
      ],
      "text/plain": [
       "     school sex age address famsize Pstatus Medu Fedu Mjob Fjob ⋯ famrel.y\n",
       "     freetime.y goout.y Dalc.y Walc.y health.y absences.y G1.y G2.y G3.y"
      ]
     },
     "metadata": {},
     "output_type": "display_data"
    }
   ],
   "source": [
    "# Kiểm tra dữ liệu trùng lặp\n",
    "duplicates <- raw_data[duplicated(raw_data), ]\n",
    "duplicate_counts <- table(raw_data[duplicated(raw_data), ])\n",
    "duplicates # Không có dữ liệu trùng lặp"
   ]
  },
  {
   "cell_type": "markdown",
   "metadata": {},
   "source": [
    "### Mỗi cột mang ý nghĩa gì?"
   ]
  },
  {
   "cell_type": "code",
   "execution_count": 10,
   "metadata": {
    "vscode": {
     "languageId": "r"
    }
   },
   "outputs": [
    {
     "name": "stdout",
     "output_type": "stream",
     "text": [
      "'data.frame':\t382 obs. of  53 variables:\n",
      " $ school      : chr  \"GP\" \"GP\" \"GP\" \"GP\" ...\n",
      " $ sex         : chr  \"F\" \"F\" \"F\" \"F\" ...\n",
      " $ age         : int  15 15 15 15 15 15 15 15 15 15 ...\n",
      " $ address     : chr  \"R\" \"R\" \"R\" \"R\" ...\n",
      " $ famsize     : chr  \"GT3\" \"GT3\" \"GT3\" \"GT3\" ...\n",
      " $ Pstatus     : chr  \"T\" \"T\" \"T\" \"T\" ...\n",
      " $ Medu        : int  1 1 2 2 3 3 3 2 3 3 ...\n",
      " $ Fedu        : int  1 1 2 4 3 4 4 2 1 3 ...\n",
      " $ Mjob        : chr  \"at_home\" \"other\" \"at_home\" \"services\" ...\n",
      " $ Fjob        : chr  \"other\" \"other\" \"other\" \"health\" ...\n",
      " $ reason      : chr  \"home\" \"reputation\" \"reputation\" \"course\" ...\n",
      " $ nursery     : chr  \"yes\" \"no\" \"yes\" \"yes\" ...\n",
      " $ internet    : chr  \"yes\" \"yes\" \"no\" \"yes\" ...\n",
      " $ guardian.x  : chr  \"mother\" \"mother\" \"mother\" \"mother\" ...\n",
      " $ traveltime.x: int  2 1 1 1 2 1 2 2 2 1 ...\n",
      " $ studytime.x : int  4 2 1 3 3 3 3 2 4 4 ...\n",
      " $ failures.x  : int  1 2 0 0 2 0 2 0 0 0 ...\n",
      " $ schoolsup.x : chr  \"yes\" \"yes\" \"yes\" \"yes\" ...\n",
      " $ famsup.x    : chr  \"yes\" \"yes\" \"yes\" \"yes\" ...\n",
      " $ paid.x      : chr  \"yes\" \"no\" \"yes\" \"yes\" ...\n",
      " $ activities.x: chr  \"yes\" \"no\" \"yes\" \"yes\" ...\n",
      " $ higher.x    : chr  \"yes\" \"yes\" \"yes\" \"yes\" ...\n",
      " $ romantic.x  : chr  \"no\" \"yes\" \"no\" \"no\" ...\n",
      " $ famrel.x    : int  3 3 4 4 4 4 4 4 4 4 ...\n",
      " $ freetime.x  : int  1 3 3 3 2 3 2 1 4 3 ...\n",
      " $ goout.x     : int  2 4 1 2 1 2 2 3 2 3 ...\n",
      " $ Dalc.x      : int  1 2 1 1 2 1 2 1 2 1 ...\n",
      " $ Walc.x      : int  1 4 1 1 3 1 2 3 3 1 ...\n",
      " $ health.x    : int  1 5 2 5 3 5 5 4 3 4 ...\n",
      " $ absences.x  : int  2 2 8 2 8 2 0 2 12 10 ...\n",
      " $ G1.x        : int  7 8 14 10 10 12 12 8 16 10 ...\n",
      " $ G2.x        : int  10 6 13 9 10 12 0 9 16 11 ...\n",
      " $ G3.x        : int  10 5 13 8 10 11 0 8 16 11 ...\n",
      " $ guardian.y  : chr  \"mother\" \"mother\" \"mother\" \"mother\" ...\n",
      " $ traveltime.y: int  2 1 1 1 2 1 2 2 2 1 ...\n",
      " $ studytime.y : int  4 2 1 3 3 3 3 2 4 4 ...\n",
      " $ failures.y  : int  0 0 0 0 0 0 0 0 0 0 ...\n",
      " $ schoolsup.y : chr  \"yes\" \"yes\" \"yes\" \"yes\" ...\n",
      " $ famsup.y    : chr  \"yes\" \"yes\" \"yes\" \"yes\" ...\n",
      " $ paid.y      : chr  \"yes\" \"no\" \"no\" \"no\" ...\n",
      " $ activities.y: chr  \"yes\" \"no\" \"yes\" \"yes\" ...\n",
      " $ higher.y    : chr  \"yes\" \"yes\" \"yes\" \"yes\" ...\n",
      " $ romantic.y  : chr  \"no\" \"yes\" \"no\" \"no\" ...\n",
      " $ famrel.y    : int  3 3 4 4 4 4 4 4 4 4 ...\n",
      " $ freetime.y  : int  1 3 3 3 2 3 2 1 4 3 ...\n",
      " $ goout.y     : int  2 4 1 2 1 2 2 3 2 3 ...\n",
      " $ Dalc.y      : int  1 2 1 1 2 1 2 1 2 1 ...\n",
      " $ Walc.y      : int  1 4 1 1 3 1 2 3 3 1 ...\n",
      " $ health.y    : int  1 5 2 5 3 5 5 4 3 4 ...\n",
      " $ absences.y  : int  4 2 8 2 2 2 0 0 6 10 ...\n",
      " $ G1.y        : int  13 13 14 10 13 11 10 11 15 10 ...\n",
      " $ G2.y        : int  13 11 13 11 13 12 11 10 15 10 ...\n",
      " $ G3.y        : int  13 11 12 10 13 12 12 11 15 10 ...\n"
     ]
    }
   ],
   "source": [
    "# Đầu tiên, ta xem xét một số quan trắc\n",
    "str(raw_data)"
   ]
  },
  {
   "cell_type": "markdown",
   "metadata": {},
   "source": [
    "| Variable Name | Role    | Type        | Demographic     | Description                                                                                                                                            | Units | Missing Values |\n",
    "|---------------|---------|-------------|-----------------|--------------------------------------------------------------------------------------------------------------------------------------------------------|-------|----------------|\n",
    "| school        | Feature | Categorical |                 | student's school (binary: 'GP' - Gabriel Pereira or 'MS' - Mousinho da Silveira)                                                                       |       | no             |\n",
    "| sex           | Feature | Binary      | Sex             | student's sex (binary: 'F' - female or 'M' - male)                                                                                                     |       | no             |\n",
    "| age           | Feature | Integer     | Age             | student's age (numeric: from 15 to 22)                                                                                                                 |       | no             |\n",
    "| address       | Feature | Categorical |                 | student's home address type (binary: 'U' - urban or 'R' - rural)                                                                                       |       | no             |\n",
    "| famsize       | Feature | Categorical | Other           | family size (binary: 'LE3' - less or equal to 3 or 'GT3' - greater than 3)                                                                             |       | no             |\n",
    "| Pstatus       | Feature | Categorical | Other           | parent's cohabitation status (binary: 'T' - living together or 'A' - apart)                                                                            |       | no             |\n",
    "| Medu          | Feature | Integer     | Education Level | mother's education (numeric: 0 - none, 1 - primary education (4th grade), 2 - 5th to 9th grade, 3 - secondary education or 4 - higher education)       |       | no             |\n",
    "| Fedu          | Feature | Integer     | Education Level | father's education (numeric: 0 - none, 1 - primary education (4th grade), 2 â€“ 5th to 9th grade, 3 â€“ secondary education or 4 â€“ higher education) |       | no             |\n",
    "| Mjob          | Feature | Categorical | Occupation      | mother's job (nominal: 'teacher', 'health' care related, civil 'services' (e.g. administrative or police), 'at_home' or 'other')                       |       | no             |\n",
    "| Fjob          | Feature | Categorical | Occupation      | father's job (nominal: 'teacher', 'health' care related, civil 'services' (e.g. administrative or police), 'at_home' or 'other')                       |       | no             |\n",
    "| reason        | Feature | Categorical |                 | reason to choose this school (nominal: close to 'home', school 'reputation', 'course' preference or 'other')                                           |       | no             |\n",
    "| guardian      | Feature | Categorical |                 | student's guardian (nominal: 'mother', 'father' or 'other')                                                                                            |       | no             |\n",
    "| traveltime    | Feature | Integer     |                 | home to school travel time (numeric: 1 - <15 min., 2 - 15 to 30 min., 3 - 30 min. to 1 hour, or 4 - >1 hour)                                           |       | no             |\n",
    "| studytime     | Feature | Integer     |                 | weekly study time (numeric: 1 - <2 hours, 2 - 2 to 5 hours, 3 - 5 to 10 hours, or 4 - >10 hours)                                                       |       | no             |\n",
    "| failures      | Feature | Integer     |                 | number of past class failures (numeric: n if 1<=n<3, else 4)                                                                                           |       | no             |\n",
    "| schoolsup     | Feature | Binary      |                 | extra educational support (binary: yes or no)                                                                                                          |       | no             |\n",
    "| famsup        | Feature | Binary      |                 | family educational support (binary: yes or no)                                                                                                         |       | no             |\n",
    "| paid          | Feature | Binary      |                 | extra paid classes within the course subject (Math or Portuguese) (binary: yes or no)                                                                  |       | no             |\n",
    "| activities    | Feature | Binary      |                 | extra-curricular activities (binary: yes or no)                                                                                                        |       | no             |\n",
    "| nursery       | Feature | Binary      |                 | attended nursery school (binary: yes or no)                                                                                                            |       | no             |\n",
    "| higher        | Feature | Binary      |                 | wants to take higher education (binary: yes or no)                                                                                                     |       | no             |\n",
    "| internet      | Feature | Binary      |                 | Internet access at home (binary: yes or no)                                                                                                            |       | no             |\n",
    "| romantic      | Feature | Binary      |                 | with a romantic relationship (binary: yes or no)                                                                                                       |       | no             |\n",
    "| famrel        | Feature | Integer     |                 | quality of family relationships (numeric: from 1 - very bad to 5 - excellent)                                                                          |       | no             |\n",
    "| freetime      | Feature | Integer     |                 | free time after school (numeric: from 1 - very low to 5 - very high)                                                                                   |       | no             |\n",
    "| goout         | Feature | Integer     |                 | going out with friends (numeric: from 1 - very low to 5 - very high)                                                                                   |       | no             |\n",
    "| Dalc          | Feature | Integer     |                 | workday alcohol consumption (numeric: from 1 - very low to 5 - very high)                                                                              |       | no             |\n",
    "| Walc          | Feature | Integer     |                 | weekend alcohol consumption (numeric: from 1 - very low to 5 - very high)                                                                              |       | no             |\n",
    "| health        | Feature | Integer     |                 | current health status (numeric: from 1 - very bad to 5 - very good)                                                                                    |       | no             |\n",
    "| absences      | Feature | Integer     |                 | number of school absences (numeric: from 0 to 93)                                                                                                      |       | no             |\n",
    "| G1            | Target  | Categorical |                 | first period grade (numeric: from 0 to 20)                                                                                                             |       | no             |\n",
    "| G2            | Target  | Categorical |                 | second period grade (numeric: from 0 to 20)                                                                                                            |       | no             |\n",
    "| G3            | Target  | Integer     |                 | final grade (numeric: from 0 to 20, output target)                                                                                                     |       | no             |\n"
   ]
  }
 ],
 "metadata": {
  "kernelspec": {
   "display_name": "R",
   "language": "R",
   "name": "ir"
  },
  "language_info": {
   "codemirror_mode": "r",
   "file_extension": ".r",
   "mimetype": "text/x-r-source",
   "name": "R",
   "pygments_lexer": "r",
   "version": "4.4.1"
  }
 },
 "nbformat": 4,
 "nbformat_minor": 2
}
