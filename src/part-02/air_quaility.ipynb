{
 "cells": [
  {
   "cell_type": "markdown",
   "metadata": {},
   "source": [
    "# PHÂN TÍCH CHẤT LƯỢNG KHÔNG KHÍ"
   ]
  },
  {
   "cell_type": "markdown",
   "metadata": {},
   "source": [
    "Thành viên:\n",
    "- 23C24004 - Lê Nhựt Nam\n",
    "- 23C24005 - Phạm Thừa Tiểu Thành"
   ]
  },
  {
   "cell_type": "markdown",
   "metadata": {},
   "source": [
    "## Giới thiệu chung"
   ]
  },
  {
   "cell_type": "markdown",
   "metadata": {},
   "source": []
  },
  {
   "cell_type": "markdown",
   "metadata": {},
   "source": [
    "## Phát biểu bài toán"
   ]
  },
  {
   "cell_type": "markdown",
   "metadata": {},
   "source": []
  },
  {
   "cell_type": "markdown",
   "metadata": {},
   "source": [
    "## Giới thiệu về dữ liệu"
   ]
  },
  {
   "cell_type": "markdown",
   "metadata": {},
   "source": []
  },
  {
   "cell_type": "markdown",
   "metadata": {},
   "source": [
    "## Các câu hỏi phân tích"
   ]
  },
  {
   "cell_type": "markdown",
   "metadata": {},
   "source": []
  },
  {
   "cell_type": "markdown",
   "metadata": {},
   "source": [
    "## Import thư viện"
   ]
  },
  {
   "cell_type": "code",
   "execution_count": 1,
   "metadata": {
    "vscode": {
     "languageId": "r"
    }
   },
   "outputs": [
    {
     "name": "stderr",
     "output_type": "stream",
     "text": [
      "\n",
      "Attaching package: ‘dplyr’\n",
      "\n",
      "\n",
      "The following objects are masked from ‘package:stats’:\n",
      "\n",
      "    filter, lag\n",
      "\n",
      "\n",
      "The following objects are masked from ‘package:base’:\n",
      "\n",
      "    intersect, setdiff, setequal, union\n",
      "\n",
      "\n",
      "Loading required package: carData\n",
      "\n",
      "\n",
      "Attaching package: ‘car’\n",
      "\n",
      "\n",
      "The following object is masked from ‘package:dplyr’:\n",
      "\n",
      "    recode\n",
      "\n",
      "\n",
      "\n",
      "Attaching package: ‘mice’\n",
      "\n",
      "\n",
      "The following object is masked from ‘package:stats’:\n",
      "\n",
      "    filter\n",
      "\n",
      "\n",
      "The following objects are masked from ‘package:base’:\n",
      "\n",
      "    cbind, rbind\n",
      "\n",
      "\n",
      "Loading required package: colorspace\n",
      "\n",
      "Loading required package: grid\n",
      "\n",
      "VIM is ready to use.\n",
      "\n",
      "\n",
      "Suggestions and bug-reports can be submitted at: https://github.com/statistikat/VIM/issues\n",
      "\n",
      "\n",
      "Attaching package: ‘VIM’\n",
      "\n",
      "\n",
      "The following object is masked from ‘package:datasets’:\n",
      "\n",
      "    sleep\n",
      "\n",
      "\n",
      "\n",
      "== Welcome to TidyDensity ===========================================================================\n",
      "If you find this package useful, please leave a star: \n",
      "   https://github.com/spsanderson/TidyDensity'\n",
      "\n",
      "If you encounter a bug or want to request an enhancement please file an issue at:\n",
      "   https://github.com/spsanderson/TidyDensity/issues\n",
      "\n",
      "Thank you for using TidyDensity!\n",
      "\n",
      "\n",
      "\n",
      "Attaching package: ‘MASS’\n",
      "\n",
      "\n",
      "The following object is masked from ‘package:dplyr’:\n",
      "\n",
      "    select\n",
      "\n",
      "\n",
      "Loading required package: zoo\n",
      "\n",
      "\n",
      "Attaching package: ‘zoo’\n",
      "\n",
      "\n",
      "The following objects are masked from ‘package:base’:\n",
      "\n",
      "    as.Date, as.Date.numeric\n",
      "\n",
      "\n"
     ]
    }
   ],
   "source": [
    "library(dplyr)\n",
    "library(tidyr)\n",
    "library(car)\n",
    "library(readxl)\n",
    "library(mice)\n",
    "library(VIM)\n",
    "library(grid)\n",
    "library(ggplot2)\n",
    "library(cowplot)\n",
    "library(missMDA)\n",
    "library(FactoMineR)\n",
    "library(TidyDensity)\n",
    "library(MASS)\n",
    "library(leaps)\n",
    "library(lmtest)\n",
    "library(Metrics)"
   ]
  },
  {
   "cell_type": "markdown",
   "metadata": {
    "vscode": {
     "languageId": "r"
    }
   },
   "source": [
    "## Hàm phụ trợ"
   ]
  },
  {
   "cell_type": "code",
   "execution_count": 2,
   "metadata": {
    "vscode": {
     "languageId": "r"
    }
   },
   "outputs": [],
   "source": [
    "remove_high_vif <- function(regr_variable, data, threshold = 5) {      \n",
    "    stop <- FALSE\n",
    "    while(stop == FALSE) {\n",
    "        # Tính VIF cho các biến độc lập\n",
    "        model <- lm(as.formula(paste(regr_variable, \"~ .\")), data = data)\n",
    "        vif_values <- vif(model)\n",
    "        # Tìm các biến có VIF cao hơn ngưỡng\n",
    "        high_vif <- which(vif_values > threshold)\n",
    "        \n",
    "        if (length(high_vif) > 0) {\n",
    "            # Loại bỏ các biến có VIF cao\n",
    "            remove_index <- which.max(high_vif)\n",
    "            rm_names <- names(data[, !names(data) %in% regr_variable])\n",
    "            rm_name <- rm_names[remove_index]\n",
    "            data <- data[, !names(data) %in% rm_name]\n",
    "        } else {\n",
    "            stop <- TRUE\n",
    "        }\n",
    "    }\n",
    "    return(data)\n",
    "}"
   ]
  },
  {
   "cell_type": "markdown",
   "metadata": {},
   "source": [
    "## Đọc dữ liệu"
   ]
  },
  {
   "cell_type": "code",
   "execution_count": 3,
   "metadata": {
    "vscode": {
     "languageId": "r"
    }
   },
   "outputs": [
    {
     "name": "stdout",
     "output_type": "stream",
     "text": [
      "tibble [9,357 × 15] (S3: tbl_df/tbl/data.frame)\n",
      " $ Date         : POSIXct[1:9357], format: \"2004-03-10\" \"2004-03-10\" ...\n",
      " $ Time         : POSIXct[1:9357], format: \"1899-12-31 18:00:00\" \"1899-12-31 19:00:00\" ...\n",
      " $ CO(GT)       : num [1:9357] 2.6 2 2.2 2.2 1.6 1.2 1.2 1 0.9 0.6 ...\n",
      " $ PT08.S1(CO)  : num [1:9357] 1360 1292 1402 1376 1272 ...\n",
      " $ NMHC(GT)     : num [1:9357] 150 112 88 80 51 38 31 31 24 19 ...\n",
      " $ C6H6(GT)     : num [1:9357] 11.88 9.4 9 9.23 6.52 ...\n",
      " $ PT08.S2(NMHC): num [1:9357] 1046 955 939 948 836 ...\n",
      " $ NOx(GT)      : num [1:9357] 166 103 131 172 131 89 62 62 45 -200 ...\n",
      " $ PT08.S3(NOx) : num [1:9357] 1056 1174 1140 1092 1205 ...\n",
      " $ NO2(GT)      : num [1:9357] 113 92 114 122 116 96 77 76 60 -200 ...\n",
      " $ PT08.S4(NO2) : num [1:9357] 1692 1559 1554 1584 1490 ...\n",
      " $ PT08.S5(O3)  : num [1:9357] 1268 972 1074 1203 1110 ...\n",
      " $ T            : num [1:9357] 13.6 13.3 11.9 11 11.2 ...\n",
      " $ RH           : num [1:9357] 48.9 47.7 54 60 59.6 ...\n",
      " $ AH           : num [1:9357] 0.758 0.725 0.75 0.787 0.789 ...\n"
     ]
    }
   ],
   "source": [
    "# Đọc dữ liệu từ tập tin\n",
    "raw_data = read_excel(\"../../data/part2/air+quality/AirQualityUCI.xlsx\", sheet = 1)\n",
    "str(raw_data)"
   ]
  },
  {
   "cell_type": "markdown",
   "metadata": {},
   "source": [
    "## Khám phá và tiền xử lý dữ liệu"
   ]
  },
  {
   "cell_type": "markdown",
   "metadata": {},
   "source": [
    "### Dữ liệu có bao nhiều dòng và bao nhiêu cột?"
   ]
  },
  {
   "cell_type": "code",
   "execution_count": 4,
   "metadata": {
    "vscode": {
     "languageId": "r"
    }
   },
   "outputs": [
    {
     "data": {
      "text/html": [
       "<style>\n",
       ".list-inline {list-style: none; margin:0; padding: 0}\n",
       ".list-inline>li {display: inline-block}\n",
       ".list-inline>li:not(:last-child)::after {content: \"\\00b7\"; padding: 0 .5ex}\n",
       "</style>\n",
       "<ol class=list-inline><li>9357</li><li>15</li></ol>\n"
      ],
      "text/latex": [
       "\\begin{enumerate*}\n",
       "\\item 9357\n",
       "\\item 15\n",
       "\\end{enumerate*}\n"
      ],
      "text/markdown": [
       "1. 9357\n",
       "2. 15\n",
       "\n",
       "\n"
      ],
      "text/plain": [
       "[1] 9357   15"
      ]
     },
     "metadata": {},
     "output_type": "display_data"
    }
   ],
   "source": [
    "# Kích thước của dữ liệu\n",
    "# Ta thấy dữ liệu có 231 dòng và 14 cột\n",
    "dim(raw_data)"
   ]
  },
  {
   "cell_type": "markdown",
   "metadata": {},
   "source": [
    "### Mỗi dòng có ý nghĩa gì? Liệu có tồn tại dòng nào mà mang ý nghĩa khác với các dòng còn lại không?"
   ]
  },
  {
   "cell_type": "markdown",
   "metadata": {},
   "source": [
    "Dựa trên thông tin của tập dữ liệu, ta thấy mỗi dòng mang ý nghĩa khác nhau, tức là mỗi quan trắc độc lập nhau."
   ]
  },
  {
   "cell_type": "markdown",
   "metadata": {},
   "source": [
    "### Dữ liệu có bị trùng lặp không?"
   ]
  },
  {
   "cell_type": "code",
   "execution_count": 5,
   "metadata": {
    "vscode": {
     "languageId": "r"
    }
   },
   "outputs": [
    {
     "data": {
      "text/html": [
       "<table class=\"dataframe\">\n",
       "<caption>A tibble: 0 × 15</caption>\n",
       "<thead>\n",
       "\t<tr><th scope=col>Date</th><th scope=col>Time</th><th scope=col>CO(GT)</th><th scope=col>PT08.S1(CO)</th><th scope=col>NMHC(GT)</th><th scope=col>C6H6(GT)</th><th scope=col>PT08.S2(NMHC)</th><th scope=col>NOx(GT)</th><th scope=col>PT08.S3(NOx)</th><th scope=col>NO2(GT)</th><th scope=col>PT08.S4(NO2)</th><th scope=col>PT08.S5(O3)</th><th scope=col>T</th><th scope=col>RH</th><th scope=col>AH</th></tr>\n",
       "\t<tr><th scope=col>&lt;dttm&gt;</th><th scope=col>&lt;dttm&gt;</th><th scope=col>&lt;dbl&gt;</th><th scope=col>&lt;dbl&gt;</th><th scope=col>&lt;dbl&gt;</th><th scope=col>&lt;dbl&gt;</th><th scope=col>&lt;dbl&gt;</th><th scope=col>&lt;dbl&gt;</th><th scope=col>&lt;dbl&gt;</th><th scope=col>&lt;dbl&gt;</th><th scope=col>&lt;dbl&gt;</th><th scope=col>&lt;dbl&gt;</th><th scope=col>&lt;dbl&gt;</th><th scope=col>&lt;dbl&gt;</th><th scope=col>&lt;dbl&gt;</th></tr>\n",
       "</thead>\n",
       "<tbody>\n",
       "</tbody>\n",
       "</table>\n"
      ],
      "text/latex": [
       "A tibble: 0 × 15\n",
       "\\begin{tabular}{lllllllllllllll}\n",
       " Date & Time & CO(GT) & PT08.S1(CO) & NMHC(GT) & C6H6(GT) & PT08.S2(NMHC) & NOx(GT) & PT08.S3(NOx) & NO2(GT) & PT08.S4(NO2) & PT08.S5(O3) & T & RH & AH\\\\\n",
       " <dttm> & <dttm> & <dbl> & <dbl> & <dbl> & <dbl> & <dbl> & <dbl> & <dbl> & <dbl> & <dbl> & <dbl> & <dbl> & <dbl> & <dbl>\\\\\n",
       "\\hline\n",
       "\\end{tabular}\n"
      ],
      "text/markdown": [
       "\n",
       "A tibble: 0 × 15\n",
       "\n",
       "| Date &lt;dttm&gt; | Time &lt;dttm&gt; | CO(GT) &lt;dbl&gt; | PT08.S1(CO) &lt;dbl&gt; | NMHC(GT) &lt;dbl&gt; | C6H6(GT) &lt;dbl&gt; | PT08.S2(NMHC) &lt;dbl&gt; | NOx(GT) &lt;dbl&gt; | PT08.S3(NOx) &lt;dbl&gt; | NO2(GT) &lt;dbl&gt; | PT08.S4(NO2) &lt;dbl&gt; | PT08.S5(O3) &lt;dbl&gt; | T &lt;dbl&gt; | RH &lt;dbl&gt; | AH &lt;dbl&gt; |\n",
       "|---|---|---|---|---|---|---|---|---|---|---|---|---|---|---|\n",
       "\n"
      ],
      "text/plain": [
       "     Date Time CO(GT) PT08.S1(CO) NMHC(GT) C6H6(GT) PT08.S2(NMHC) NOx(GT)\n",
       "     PT08.S3(NOx) NO2(GT) PT08.S4(NO2) PT08.S5(O3) T RH AH"
      ]
     },
     "metadata": {},
     "output_type": "display_data"
    }
   ],
   "source": [
    "# Kiểm tra dữ liệu trùng lặp\n",
    "duplicates <- raw_data[duplicated(raw_data), ]\n",
    "duplicate_counts <- table(raw_data[duplicated(raw_data), ])\n",
    "duplicates # Không có dữ liệu trùng lặp"
   ]
  },
  {
   "cell_type": "markdown",
   "metadata": {},
   "source": [
    "### Mỗi cột mang ý nghĩa gì?"
   ]
  },
  {
   "cell_type": "code",
   "execution_count": 6,
   "metadata": {
    "vscode": {
     "languageId": "r"
    }
   },
   "outputs": [
    {
     "name": "stdout",
     "output_type": "stream",
     "text": [
      "tibble [9,357 × 15] (S3: tbl_df/tbl/data.frame)\n",
      " $ Date         : POSIXct[1:9357], format: \"2004-03-10\" \"2004-03-10\" ...\n",
      " $ Time         : POSIXct[1:9357], format: \"1899-12-31 18:00:00\" \"1899-12-31 19:00:00\" ...\n",
      " $ CO(GT)       : num [1:9357] 2.6 2 2.2 2.2 1.6 1.2 1.2 1 0.9 0.6 ...\n",
      " $ PT08.S1(CO)  : num [1:9357] 1360 1292 1402 1376 1272 ...\n",
      " $ NMHC(GT)     : num [1:9357] 150 112 88 80 51 38 31 31 24 19 ...\n",
      " $ C6H6(GT)     : num [1:9357] 11.88 9.4 9 9.23 6.52 ...\n",
      " $ PT08.S2(NMHC): num [1:9357] 1046 955 939 948 836 ...\n",
      " $ NOx(GT)      : num [1:9357] 166 103 131 172 131 89 62 62 45 -200 ...\n",
      " $ PT08.S3(NOx) : num [1:9357] 1056 1174 1140 1092 1205 ...\n",
      " $ NO2(GT)      : num [1:9357] 113 92 114 122 116 96 77 76 60 -200 ...\n",
      " $ PT08.S4(NO2) : num [1:9357] 1692 1559 1554 1584 1490 ...\n",
      " $ PT08.S5(O3)  : num [1:9357] 1268 972 1074 1203 1110 ...\n",
      " $ T            : num [1:9357] 13.6 13.3 11.9 11 11.2 ...\n",
      " $ RH           : num [1:9357] 48.9 47.7 54 60 59.6 ...\n",
      " $ AH           : num [1:9357] 0.758 0.725 0.75 0.787 0.789 ...\n"
     ]
    }
   ],
   "source": [
    "# Đầu tiên, ta xem xét một số quan trắc\n",
    "str(raw_data)"
   ]
  },
  {
   "cell_type": "markdown",
   "metadata": {},
   "source": [
    "### Có cột nào có kiểu dữ liệu chưa phù hợp? Nếu có, cần chuyển đổi sang kiểu phù hợp"
   ]
  },
  {
   "cell_type": "markdown",
   "metadata": {},
   "source": [
    "| Tên biến      | Vai trò | Phân loại   | Mô tả                                                                                                  | Đơn vị     | Missing Values |\n",
    "| ------------- | ------- | ----------- | ------------------------------------------------------------------------------------------------------ | ---------- | -------------- |\n",
    "| Date          | Feature | Date        |                                                                                                        |            | no             |\n",
    "| Time          | Feature | Categorical |                                                                                                        |            | no             |\n",
    "| CO(GT)        | Feature | Integer     | Nồng độ CO trung bình thực tế theo giờ tính bằng mg/m^3 (máy phân tích tham chiếu)                     | mg/m^3     | no             |\n",
    "| PT08.S1(CO)   | Feature | Categorical | hourly averaged sensor response (nominally CO targeted)                                                |            | no             |\n",
    "| NMHC(GT)      | Feature | Integer     | True hourly averaged overall Non Metanic HydroCarbons concentration in microg/m^3 (reference analyzer) | microg/m^3 | no             |\n",
    "| C6H6(GT)      | Feature | Continuous  | True hourly averaged Benzene concentration in microg/m^3 (reference analyzer)                          | microg/m^3 | no             |\n",
    "| PT08.S2(NMHC) | Feature | Categorical | hourly averaged sensor response (nominally NMHC targeted)                                              |            | no             |\n",
    "| NOx(GT)       | Feature | Integer     | True hourly averaged NOx concentration in ppb (reference analyzer)                                     | ppb        | no             |\n",
    "| PT08.S3(NOx)  | Feature | Categorical | hourly averaged sensor response (nominally NOx targeted)                                               |            | no             |\n",
    "| NO2(GT)       | Feature | Integer     | True hourly averaged NO2 concentration in microg/m^3 (reference analyzer)                              | microg/m^3 | no             |\n",
    "| PT08.S4(NO2)  | Feature | Categorical | hourly averaged sensor response (nominally NO2 targeted)                                               |            | no             |\n",
    "| PT08.S5(O3)   | Feature | Categorical | hourly averaged sensor response (nominally O3 targeted)                                                |            | no             |\n",
    "| T             | Feature | Continuous  | Nhiệt độ (Temperature)                                                                                 | °C         | no             |\n",
    "| RH            | Feature | Continuous  | Độ ẩm tương đối (Relative Humidity)                                                                    | %          | no             |\n",
    "| AH            | Feature | Continuous  | Độ ẩm tuyệt đối (Absolute Humidity)                                                                    |            | no             |\n"
   ]
  },
  {
   "cell_type": "code",
   "execution_count": 7,
   "metadata": {
    "vscode": {
     "languageId": "r"
    }
   },
   "outputs": [
    {
     "data": {
      "text/html": [
       "FALSE"
      ],
      "text/latex": [
       "FALSE"
      ],
      "text/markdown": [
       "FALSE"
      ],
      "text/plain": [
       "[1] FALSE"
      ]
     },
     "metadata": {},
     "output_type": "display_data"
    }
   ],
   "source": [
    "# 1. Time\n",
    "is.factor(raw_data$Time) #False "
   ]
  },
  {
   "cell_type": "code",
   "execution_count": 10,
   "metadata": {
    "vscode": {
     "languageId": "r"
    }
   },
   "outputs": [
    {
     "data": {
      "text/html": [
       "FALSE"
      ],
      "text/latex": [
       "FALSE"
      ],
      "text/markdown": [
       "FALSE"
      ],
      "text/plain": [
       "[1] FALSE"
      ]
     },
     "metadata": {},
     "output_type": "display_data"
    }
   ],
   "source": [
    "# 2. PT08.S1(CO)\n",
    "is.factor(raw_data$`PT08.S1(CO)`) # False"
   ]
  },
  {
   "cell_type": "code",
   "execution_count": 11,
   "metadata": {
    "vscode": {
     "languageId": "r"
    }
   },
   "outputs": [
    {
     "data": {
      "text/html": [
       "FALSE"
      ],
      "text/latex": [
       "FALSE"
      ],
      "text/markdown": [
       "FALSE"
      ],
      "text/plain": [
       "[1] FALSE"
      ]
     },
     "metadata": {},
     "output_type": "display_data"
    }
   ],
   "source": [
    "# 3. PT08.S2(NMHC)\n",
    "is.factor(raw_data$`PT08.S2(NMHC)`) # False"
   ]
  },
  {
   "cell_type": "code",
   "execution_count": 12,
   "metadata": {
    "vscode": {
     "languageId": "r"
    }
   },
   "outputs": [
    {
     "data": {
      "text/html": [
       "FALSE"
      ],
      "text/latex": [
       "FALSE"
      ],
      "text/markdown": [
       "FALSE"
      ],
      "text/plain": [
       "[1] FALSE"
      ]
     },
     "metadata": {},
     "output_type": "display_data"
    }
   ],
   "source": [
    "# 4. PT08.S3(NOx)\n",
    "is.factor(raw_data$`PT08.S3(NOx)`) # False"
   ]
  },
  {
   "cell_type": "code",
   "execution_count": 13,
   "metadata": {
    "vscode": {
     "languageId": "r"
    }
   },
   "outputs": [
    {
     "data": {
      "text/html": [
       "FALSE"
      ],
      "text/latex": [
       "FALSE"
      ],
      "text/markdown": [
       "FALSE"
      ],
      "text/plain": [
       "[1] FALSE"
      ]
     },
     "metadata": {},
     "output_type": "display_data"
    }
   ],
   "source": [
    "# 5. PT08.S4(NO2)\n",
    "is.factor(raw_data$`PT08.S4(NO2)`) # False"
   ]
  },
  {
   "cell_type": "code",
   "execution_count": 14,
   "metadata": {
    "vscode": {
     "languageId": "r"
    }
   },
   "outputs": [
    {
     "data": {
      "text/html": [
       "FALSE"
      ],
      "text/latex": [
       "FALSE"
      ],
      "text/markdown": [
       "FALSE"
      ],
      "text/plain": [
       "[1] FALSE"
      ]
     },
     "metadata": {},
     "output_type": "display_data"
    }
   ],
   "source": [
    "# 6. PT08.S5(O3)\n",
    "is.factor(raw_data$`PT08.S5(O3)`) # False"
   ]
  },
  {
   "cell_type": "code",
   "execution_count": 15,
   "metadata": {
    "vscode": {
     "languageId": "r"
    }
   },
   "outputs": [],
   "source": [
    "# Modifications\n",
    "raw_data$Time <- as.factor(raw_data$Time)\n",
    "raw_data$`PT08.S1(CO)` <- as.factor(raw_data$`PT08.S1(CO)`)\n",
    "raw_data$`PT08.S2(NMHC)` <- as.factor(raw_data$`PT08.S2(NMHC)`)\n",
    "raw_data$`PT08.S3(NOx)` <- as.factor(raw_data$`PT08.S3(NOx)`)\n",
    "raw_data$`PT08.S4(NO2)` <- as.factor(raw_data$`PT08.S4(NO2)`)\n",
    "raw_data$`PT08.S5(O3)` <- as.factor(raw_data$`PT08.S5(O3)`)"
   ]
  },
  {
   "cell_type": "markdown",
   "metadata": {},
   "source": [
    "### Các cột với kiểu dữ liệu số phân bố như thế nào?"
   ]
  },
  {
   "cell_type": "code",
   "execution_count": 16,
   "metadata": {
    "vscode": {
     "languageId": "r"
    }
   },
   "outputs": [],
   "source": [
    "# Function to calculate missing ratio\n",
    "missing_ratio <- function(s) {\n",
    "  round(mean(is.na(s)) * 100, 1)\n",
    "}\n",
    "\n",
    "# Function to calculate median\n",
    "median_custom <- function(df) {\n",
    "  round(quantile(df, 0.5, na.rm = TRUE), 1)\n",
    "}\n",
    "\n",
    "# Function to calculate lower quartile\n",
    "lower_quartile <- function(df) {\n",
    "  round(quantile(df, 0.25, na.rm = TRUE), 1)\n",
    "}\n",
    "\n",
    "# Function to calculate upper quartile\n",
    "upper_quartile <- function(df) {\n",
    "  round(quantile(df, 0.75, na.rm = TRUE), 1)\n",
    "}"
   ]
  },
  {
   "cell_type": "code",
   "execution_count": 17,
   "metadata": {
    "vscode": {
     "languageId": "r"
    }
   },
   "outputs": [
    {
     "name": "stderr",
     "output_type": "stream",
     "text": [
      "Warning message:\n",
      "“\u001b[1m\u001b[22mExpected 2 pieces. Additional pieces discarded in 24 rows [1, 3, 5, 7, 9, 11,\n",
      "13, 15, 17, 19, 21, 23, 25, 27, 29, 31, 33, 35, 37, 39, ...].”\n"
     ]
    },
    {
     "name": "stdout",
     "output_type": "stream",
     "text": [
      "\u001b[90m# A tibble: 8 × 7\u001b[39m\n",
      "  variable missing   min  lower median  upper     max\n",
      "  \u001b[3m\u001b[90m<chr>\u001b[39m\u001b[23m      \u001b[3m\u001b[90m<dbl>\u001b[39m\u001b[23m \u001b[3m\u001b[90m<dbl>\u001b[39m\u001b[23m  \u001b[3m\u001b[90m<dbl>\u001b[39m\u001b[23m  \u001b[3m\u001b[90m<dbl>\u001b[39m\u001b[23m  \u001b[3m\u001b[90m<dbl>\u001b[39m\u001b[23m   \u001b[3m\u001b[90m<dbl>\u001b[39m\u001b[23m\n",
      "\u001b[90m1\u001b[39m CO(GT)         0  -\u001b[31m200\u001b[39m    0.6    1.5    2.6   11.9 \n",
      "\u001b[90m2\u001b[39m NMHC(GT)       0  -\u001b[31m200\u001b[39m -\u001b[31m200\u001b[39m   -\u001b[31m200\u001b[39m   -\u001b[31m200\u001b[39m   \u001b[4m1\u001b[24m189   \n",
      "\u001b[90m3\u001b[39m C6H6(GT)       0  -\u001b[31m200\u001b[39m    4      7.9   13.6   63.7 \n",
      "\u001b[90m4\u001b[39m NOx(GT)        0  -\u001b[31m200\u001b[39m   50    141    284.  \u001b[4m1\u001b[24m479   \n",
      "\u001b[90m5\u001b[39m NO2(GT)        0  -\u001b[31m200\u001b[39m   53     96    133    340.  \n",
      "\u001b[90m6\u001b[39m T              0  -\u001b[31m200\u001b[39m   10.9   17.2   24.1   44.6 \n",
      "\u001b[90m7\u001b[39m RH             0  -\u001b[31m200\u001b[39m   34.1   48.6   61.9   88.7 \n",
      "\u001b[90m8\u001b[39m AH             0  -\u001b[31m200\u001b[39m    0.7    1      1.3    2.23\n"
     ]
    }
   ],
   "source": [
    "# Select numerical columns\n",
    "num_col_info_df <- as.data.frame(raw_data) %>% select_if(is.numeric)\n",
    "\n",
    "# Aggregating statistics\n",
    "num_col_info_df <- as.data.frame(raw_data) %>%\n",
    "  select_if(is.numeric) %>%\n",
    "  summarise(\n",
    "    across(everything(), list(\n",
    "      missing_ratio = ~ missing_ratio(.),\n",
    "      min = ~ min(., na.rm = TRUE),\n",
    "      lower_quartile = ~ lower_quartile(.),\n",
    "      median = ~ median_custom(.),\n",
    "      upper_quartile = ~ upper_quartile(.),\n",
    "      max = ~ max(., na.rm = TRUE)\n",
    "    ))\n",
    "  )\n",
    "\n",
    "num_col_info_df <- num_col_info_df %>%\n",
    "  pivot_longer(\n",
    "    cols = everything(),\n",
    "    names_to = c(\"variable\", \".value\"),\n",
    "    names_sep = \"_\"\n",
    "  )\n",
    "\n",
    "print(num_col_info_df)"
   ]
  },
  {
   "cell_type": "markdown",
   "metadata": {},
   "source": [
    "**Nhận xét**\n",
    "- Dữ liệu không có hiện tượng missing values. "
   ]
  },
  {
   "cell_type": "code",
   "execution_count": 18,
   "metadata": {
    "vscode": {
     "languageId": "r"
    }
   },
   "outputs": [
    {
     "name": "stdout",
     "output_type": "stream",
     "text": [
      "     CO(GT)           NMHC(GT)         C6H6(GT)           NOx(GT)      \n",
      " Min.   :-200.00   Min.   :-200.0   Min.   :-200.000   Min.   :-200.0  \n",
      " 1st Qu.:   0.60   1st Qu.:-200.0   1st Qu.:   4.005   1st Qu.:  50.0  \n",
      " Median :   1.50   Median :-200.0   Median :   7.887   Median : 141.0  \n",
      " Mean   : -34.21   Mean   :-159.1   Mean   :   1.866   Mean   : 168.6  \n",
      " 3rd Qu.:   2.60   3rd Qu.:-200.0   3rd Qu.:  13.636   3rd Qu.: 284.2  \n",
      " Max.   :  11.90   Max.   :1189.0   Max.   :  63.741   Max.   :1479.0  \n",
      "    NO2(GT)              T                  RH                AH           \n",
      " Min.   :-200.00   Min.   :-200.000   Min.   :-200.00   Min.   :-200.0000  \n",
      " 1st Qu.:  53.00   1st Qu.:  10.950   1st Qu.:  34.05   1st Qu.:   0.6923  \n",
      " Median :  96.00   Median :  17.200   Median :  48.55   Median :   0.9768  \n",
      " Mean   :  58.14   Mean   :   9.777   Mean   :  39.48   Mean   :  -6.8376  \n",
      " 3rd Qu.: 133.00   3rd Qu.:  24.075   3rd Qu.:  61.88   3rd Qu.:   1.2962  \n",
      " Max.   : 339.70   Max.   :  44.600   Max.   :  88.72   Max.   :   2.2310  \n"
     ]
    }
   ],
   "source": [
    "print(summary(as.data.frame(raw_data) %>% select_if(is.numeric)))"
   ]
  },
  {
   "cell_type": "markdown",
   "metadata": {},
   "source": [
    "### Các cột với kiểu dữ liệu phân loại phân bố như thế nào?"
   ]
  },
  {
   "cell_type": "code",
   "execution_count": 19,
   "metadata": {
    "vscode": {
     "languageId": "r"
    }
   },
   "outputs": [
    {
     "name": "stdout",
     "output_type": "stream",
     "text": [
      "                     column missing_ratio num_values value_ratios\n",
      "Time                   Time             0         24 4.2, 4.2....\n",
      "PT08.S1(CO)     PT08.S1(CO)             0       3246 3.9, 0, ....\n",
      "PT08.S2(NMHC) PT08.S2(NMHC)             0       3773 3.9, 0, ....\n",
      "PT08.S3(NOx)   PT08.S3(NOx)             0       3519 3.9, 0, ....\n",
      "PT08.S4(NO2)   PT08.S4(NO2)             0       4408 3.9, 0, ....\n",
      "PT08.S5(O3)     PT08.S5(O3)             0       4679 3.9, 0, ....\n"
     ]
    }
   ],
   "source": [
    "# Function to calculate missing ratio\n",
    "missing_ratio <- function(s) {\n",
    "  round(mean(is.na(s)) * 100, 1)\n",
    "}\n",
    "\n",
    "# Function to calculate number of unique values\n",
    "num_values <- function(s) {\n",
    "  s <- as.character(s)  # Convert factors to character\n",
    "  s <- strsplit(s, \";\")\n",
    "  s <- unlist(s)\n",
    "  length(unique(s))\n",
    "}\n",
    "\n",
    "# Function to calculate value ratios\n",
    "value_ratios <- function(s) {\n",
    "  s <- as.character(s)  # Convert factors to character\n",
    "  s <- strsplit(s, \";\")\n",
    "  s <- unlist(s)\n",
    "  totalCount <- sum(!is.na(s))\n",
    "  value_counts <- table(s)\n",
    "  ratios <- round((value_counts / totalCount) * 100, 1)\n",
    "  as.list(ratios)\n",
    "}\n",
    "\n",
    "# Select categorical columns (assuming character and factor columns as categorical)\n",
    "cat_col_info_df <- raw_data %>%\n",
    "  select_if(~ is.character(.) || is.factor(.))\n",
    "\n",
    "# Function to aggregate results for each column\n",
    "aggregate_results <- function(df) {\n",
    "  result <- data.frame(\n",
    "    column = names(df),\n",
    "    missing_ratio = sapply(df, missing_ratio),\n",
    "    num_values = sapply(df, num_values),\n",
    "    value_ratios = I(lapply(df, value_ratios))\n",
    "  )\n",
    "  result\n",
    "}\n",
    "\n",
    "# Apply the aggregation function\n",
    "cat_col_info_df <- aggregate_results(cat_col_info_df)\n",
    "\n",
    "# Print the result\n",
    "print(cat_col_info_df)"
   ]
  },
  {
   "cell_type": "code",
   "execution_count": 20,
   "metadata": {
    "vscode": {
     "languageId": "r"
    }
   },
   "outputs": [
    {
     "data": {
      "image/png": "[encoded data removed]",
      "text/plain": [
       "plot without title"
      ]
     },
     "metadata": {
      "image/png": {
       "height": 420,
       "width": 420
      }
     },
     "output_type": "display_data"
    }
   ],
   "source": [
    "df <- data.frame(\n",
    "    year = unique(raw_data$Time),\n",
    "    percentage = c(t(as.data.frame(cat_col_info_df$value_ratios[[1]])[1, ]))\n",
    ")\n",
    "\n",
    "bp<- ggplot(df, aes(x=\"\", y=percentage, fill=year))+\n",
    "geom_bar(width = 1, stat = \"identity\")\n",
    "pie <- bp + coord_polar(\"y\", start=0) + theme_minimal_grid() + theme(legend.title = element_blank())\n",
    "pie"
   ]
  }
 ],
 "metadata": {
  "kernelspec": {
   "display_name": "R",
   "language": "R",
   "name": "ir"
  },
  "language_info": {
   "codemirror_mode": "r",
   "file_extension": ".r",
   "mimetype": "text/x-r-source",
   "name": "R",
   "pygments_lexer": "r",
   "version": "4.4.1"
  }
 },
 "nbformat": 4,
 "nbformat_minor": 2
}
