{
 "cells": [
  {
   "cell_type": "markdown",
   "metadata": {},
   "source": [
    "# Phân tích tác dụng các loại thuốc chống trầm cảm"
   ]
  },
  {
   "cell_type": "markdown",
   "metadata": {},
   "source": [
    "Thành viên:\n",
    "- 23C24004 - Lê Nhựt Nam\n",
    "- 23C24005 - Phạm Thừa Tiểu Thành"
   ]
  },
  {
   "cell_type": "markdown",
   "metadata": {},
   "source": [
    "**Ngữ cảnh vấn đề**: Dữ liệu được cho trong tập tin chứa thông tin về một thử nghiệm về tác dụng phụ của các loại thuốc chống trầm cảm đối với trí nhớ của người tham gia thử nghiệm, được đánh giá thông qua thời gian hoàn thành một bài kiểm tra trí nhớ. Người tham gia thử nghiệm sẽ được sử dụng một trong ba loại thuốc khác nhau, với 3 hàm lượng khác nhau và sẽ tiếp xúc với các\n",
    "ký ức vui hoặc buồn trong vòng 10 phút trước khi tiến hành kiểm tra. Thời gian hoàn thành bài kiểm tra của người tham gia sẽ được ghi nhận trước và sau khi kết thúc thử nghiệm để đánh giá hiệu quả của từng loại thuốc cũng như hàm lượng thuốc khác nhau. (Những người này đều trên 25 tuổi nhằm đảm bảo thuỳ trán phát triển hoàn thiện, nơi đảm nhận chức năng nhận thức và gợi lại ký ức). Dữ liệu được thu thập bởi ông Almohalwas tại UCLA bao gồm 198 quan trắc với 9 biến."
   ]
  },
  {
   "cell_type": "markdown",
   "metadata": {},
   "source": [
    "## Dẫn nhập"
   ]
  },
  {
   "cell_type": "markdown",
   "metadata": {},
   "source": [
    "Các loại thuốc benzodiazepin đã cho thấy có tác dụng phá vỡ tác động tích cực của tiềm năng lâu dài giữa các tế bào đối với việc thu hồi trí nhớ và các mối liên hệ đã biết. Bằng cách phân biệt các tác dụng phụ lâu dài của Alprazolam (dài hạn) và Triazolam (ngắn hạn), bệnh nhân có thể được chẩn đoán tốt hơn để giảm thiểu bất kỳ tổn thương nào đối với khả năng siêu nhận thức (metacognition) và thu hồi trí nhớ của não. Nghiên cứu sâu hơn cũng chỉ ra rằng chỉ cần nhớ lại những ký ức cụ thể có liên quan đến cảm xúc mạnh mẽ sẽ khiến những cảm xúc đó được hiện thực hóa ở thời điểm hiện tại và ảnh hưởng đến những suy nghĩ trong tương lai trong một khoảng thời gian ngắn (khoảng 10 phút). Sự hiện diện của cảm xúc vui và cảm xúc buồn được quan tâm và được biết là có ảnh hưởng đáng kể đến việc thu hồi trí nhớ, từ đó đặt ra câu hỏi, những ảnh hưởng nào đến hiệu suất thu hồi trí nhớ của các thuốc benzodiazepin sau khi được bắt đầu bằng ký ức vui hay buồn? Nghiên cứu lâm sàng này sẽ cho thấy liệu tâm trạng của ký ức hỗ trợ hoặc cản trở việc nhớ lại trí nhớ có độc lập với các yếu tố khác hay không, nếu hiệu quả của thuốc benzodiazepin không chỉ phụ thuộc vào khả năng chịu đựng của người tham gia mà còn cả tâm trạng của họ, và cuối cùng là khả năng tăng cường hoặc làm giảm hiệu suất nhớ lại trí nhớ khi được kết hợp cùng nhau vượt ra ngoài phản ứng đã biết với việc sử dụng thuốc benzodiazepin hoặc ký ức liên quan đến tâm trạng của riêng bệnh nhân."
   ]
  },
  {
   "cell_type": "markdown",
   "metadata": {},
   "source": [
    "## Kiến thức nền tảng"
   ]
  },
  {
   "cell_type": "markdown",
   "metadata": {},
   "source": [
    "Đối với hầu hết những người tham gia vào một vai trò trong môi trường xã hội với nhiều áp lực và kỳ vọng, lo lắng là một sản phẩm phụ tự nhiên và đôi khi có lợi. Những người khác có thể không chống chọi được với sự lo lắng do khuynh hướng di truyền hoặc sự thao túng triệt để các chất hóa học trong não từ những trải nghiệm đau thương, tuy nhiên, lo lắng là một hiện tượng tự nhiên, cho đến khi mức độ của nó vượt quá ngưỡng của một chứng rối loạn y tế. Tổ chức Y tế Thế giới tuyên bố rằng cứ 13 người trên toàn cầu thì có 1 người mắc chứng lo âu, đây được coi là chứng rối loạn tâm thần phổ biến nhất trên toàn thế giới. Mặc dù có rất nhiều nghiên cứu được thực hiện về thuốc nhằm mục đích điều trị chứng lo âu thông qua các thuốc benzodiazepin hoặc thuốc ức chế tái hấp thu serotonin có chọn lọc, nhưng người ta vẫn biết sâu rộng về tác dụng phụ của việc sử dụng lâu dài đối với hiệu suất thu hồi trí nhớ và siêu nhận thức. Trong nghiên cứu này, Alprazolam và Triazolam sẽ được quan tâm về hiệu suất thu hồi trí nhớ.\n",
    "\n",
    "For most human beings that partake a role within a social environment with pressures and expectations, anxiety is a natural and sometimes an advantageous byproduct. Others may succumb to anxiety through a genetic disposition or a radical manipulation of brain chemistry from traumatic experiences, yet nevertheless anxiety is a natural occurrence, until its levels exceed the threshold for a medical disorder. The World Health Organization states that 1 in 13 globally suffer from anxiety which is known to be the most common mental disorder worldwide. While there are scores of research done on medication directed on treating anxiety through benzodiazepines or selective serotonin re-uptake inhibitors, extensive knowledge is known of the adverse effects of its long term use on memory recall performance and metacognition. In this study, Alprazolam and Triazolam will be of interest on memory recall performance."
   ]
  },
  {
   "cell_type": "markdown",
   "metadata": {},
   "source": [
    "Memory recall performance is attributed to numerous myelinated neurons acting concurrently from different regions in the brain for informational retrieval. However for the sake of specificity and simplicity, the concentration will be focused on the hippocampus and their interaction with benzodiazepine. Both Alprazolam (long-term effect) and Triazolam (short-term effect) are (GABA)A receptor agonists due to their ability to bind to (GABA)A receptors to lock a conformation causing the neurotransmitter GABA to have a higher affinity for the (GABA)A receptors. This process initiates the inhibitory effects of GABA leading to sedative and anxiolytic effects. These receptors are found in the subunits of the hippocampus, the hormonal organ that is also connected to emotion. The powerful influence of recalling an emotionally driven memory on an individual’s present thoughts and actions fall in line with the mood congruency effect, which is the psychological phenomenon in which an individual tends to associate future actions or thoughts that is consistent with the particular mood the memory has resurfaced onto the conscious level. Therefore, the mood an individual has during memory recall and the mood related to the memory itself is of major importance and influence on recalling performance."
   ]
  },
  {
   "cell_type": "markdown",
   "metadata": {},
   "source": [
    "Therefore, this study evaluates the effects of benzodiazepines on memory recall when being primed with happy or sad memories. According to previous research, there is evidence supporting more activation of the striatum for happy memories but higher accuracy in memory recall for sad memories. I predict that the highest dosage with Alprazolam, a long-term effect benzodiazepine, paired with a priming of happy memories prior to testing will illicit the worse performance while the control group primed with sad memories would illicit the best performance on memory recall"
   ]
  },
  {
   "cell_type": "markdown",
   "metadata": {},
   "source": [
    "## Import thư viện"
   ]
  },
  {
   "cell_type": "code",
   "execution_count": null,
   "metadata": {},
   "outputs": [
    {
     "name": "stderr",
     "output_type": "stream",
     "text": [
      "\n",
      "Attaching package: ‘dplyr’\n",
      "\n",
      "\n",
      "The following objects are masked from ‘package:stats’:\n",
      "\n",
      "    filter, lag\n",
      "\n",
      "\n",
      "The following objects are masked from ‘package:base’:\n",
      "\n",
      "    intersect, setdiff, setequal, union\n",
      "\n",
      "\n"
     ]
    }
   ],
   "source": [
    "install.packages(\"phia\")\n",
    "install.packages(\"nortest\")\n",
    "install.packages(\"lmtest\")\n",
    "install.packages(\"emmeans\")\n",
    "library(emmeans)\n",
    "library(lmtest)\n",
    "library(ggplot2)\n",
    "library(phia)\n",
    "library(car)\n",
    "library(nortest)"
   ]
  },
  {
   "attachments": {},
   "cell_type": "markdown",
   "metadata": {},
   "source": [
    "## Đọc hiểu dữ liệu"
   ]
  },
  {
   "cell_type": "code",
   "execution_count": null,
   "metadata": {},
   "outputs": [],
   "source": [
    "data_path = \"Islander_data.csv\"\n",
    "islander_raw = read.csv(data_path, header = TRUE, sep = \",\", stringsAsFactors = FALSE)\n",
    "\n",
    "# Kiểm tra thông tin về tên biến và kiểu dữ liệu\n",
    "str(islander_raw)\n",
    "\n",
    "# Kiểm tra chiều dư liệu\n",
    "dim(islander_raw)"
   ]
  },
  {
   "attachments": {},
   "cell_type": "markdown",
   "metadata": {},
   "source": [
    "Các thông tin về bộ dữ liệu\n",
    "- Dữ liệu chứa thông tin về một thử nghiệm về tác dụng phụ của các loại thuốc chống trầm cảm đối với trí nhớ của người tham gia thử nghiệm, được đánh giá thông qua thời gian hoàn thành một bài kiểm tra trí nhớ. Người tham gia thử nghiệm sẽ được sử dụng một trong ba loại thuốc khác nhau, với 3 hàm lượng khác nhau và sẽ tiếp xúc với các ký ức vui hoặc buồn trong vòng 10 phút trước khi tiến hành kiểm tra. Thời gian hoàn thành bài kiểm tra của người tham gia sẽ được ghi nhận trước và sau khi kết thúc thử nghiệm để đánh giá hiệu quả của từng loại thuốc cũng như hàm lượng thuốc khác nhau. (Những người này đều trên 25 tuổi nhằm đảm bảo thuỳ trán phát triển hoàn thiện, nơi đảm nhận chức năng nhận thức và gợi lại ký ức). Dữ liệu được thu thập bởi ông Almohalwas tại UCLA bao gồm 198 quan trắc với 9 biến sau:\n",
    "    - **first-name**: tên của người tham gia thử nghiệm\n",
    "    - **last-name**: họ của người tham gia thử nghiệm\n",
    "    - **Age**: tuổi (năm) của người tham gia thử nghiệm\n",
    "    - **HappySadgroup**: loại ký ức được tiếp xúc trước khi kiểm tra (H: vui, S: buồn)\n",
    "    - **Dosage**: Mức độ hàm lượng thuốc sử dụng (1: thấp, 2: trung bình, 3: cao)\n",
    "    - **Drug**: Loại thuốc sử dụng (A: , Alprazolam, T: Triazolam, S: Placebo)\n",
    "    - **Mem-Score-Before**: Thời gian (giây) cần để hoàn thành bài kiểm tra trước khi tiếp xúc với thuốc chữa trầm cảm\n",
    "    - **Mem-Score-After**: Thời gian (giây) cần để hoàn thành bài kiểm tra sau khi tiếp xúc với thuốc chữa trầm cảm\n",
    "    - **Diff**: Chênh lệch giữa thời gian (giây) hoàn thành bài kiểm tra trước và sau khi sử dụng thuốc.\n",
    "\n",
    "- Dữ liệu có tất cả 198 quan trắc\n",
    "\n",
    "Một số nhận xét về bộ dữ liệu như sau\n",
    "- Các biến **first-name** và **last-name** chứa thông tin về tên của người khảo sát (kiểu dữ liệu character), về mặt thống kê biến này không có ý nghĩa nên sẽ được loại bỏ khỏi dữ liệu khi khảo sát.\n",
    "- Các biến **HappySadgroup**, **Dosage** và  **Drug** được thể hiện dưới dạng catogory (nhóm) vì thế sẽ được asFactor trước khi khảo sát.\n",
    "- Các biến **Mem-Score-Before**, **Mem-Score-After**, và **Diff** được thể hiện dưới dạng kiểu dữ liệu numeric, tuy nhiên, ở đây ta có `Diff = Mem-Score-Before - Mem-Score-After` (đa cộng tuyến), vì vậy ta chỉ cần khảo sát biến phụ thuộc `Diff`, các biến còn lại sẽ loại bỏ ra khỏi dữ liệu trước khi khảo sát.\n",
    "- **age** kiểu dữ liệu `int`, chứa thông tin về tuổi của người khảo sát, dao động từ 24 tuổi đến 83 tuổi. Thay vì khảo sát trên từng nhóm độ tuổi riêng biệt (rất nhiều), ta sẽ tiến hành chia thành 2 nhóm chính là nhóm tuổi < 50 và nhóm còn lại."
   ]
  },
  {
   "attachments": {},
   "cell_type": "markdown",
   "metadata": {},
   "source": [
    "## Phân tích và xử lý dữ liệu\n",
    "Thực hiện các bước sau\n",
    "- Thực hiện kiểm tra về bộ dữ liệu: \n",
    "    - Kiểm tra tính độc lập\n",
    "    - Kiểm tra tỷ lệ missing dữ liệu\n",
    "    - Kiểm tra outliers của dữ liệu\n",
    "- Loai bỏ các biến dư thừa và đưa về kiểu dữ liệu phù hợp\n",
    "- Trực quan hóa dữ liệu và rút ra nhận xét"
   ]
  },
  {
   "attachments": {},
   "cell_type": "markdown",
   "metadata": {},
   "source": [
    "### Kiểm tra dữ liệu"
   ]
  },
  {
   "attachments": {},
   "cell_type": "markdown",
   "metadata": {},
   "source": [
    "#### Kiểm tra tính độc lập"
   ]
  },
  {
   "cell_type": "code",
   "execution_count": null,
   "metadata": {},
   "outputs": [
    {
     "name": "stdout",
     "output_type": "stream",
     "text": [
      "'data.frame':\t198 obs. of  9 variables:\n",
      " $ first_name      : chr  \"Bastian\" \"Evan\" \"Florencia\" \"Holly\" ...\n",
      " $ last_name       : chr  \"Carrasco\" \"Carrasco\" \"Carrasco\" \"Carrasco\" ...\n",
      " $ age             : int  25 52 29 50 52 37 35 38 29 36 ...\n",
      " $ Happy_Sad_group : chr  \"H\" \"S\" \"H\" \"S\" ...\n",
      " $ Dosage          : int  1 1 1 1 1 1 1 1 1 1 ...\n",
      " $ Drug            : chr  \"A\" \"A\" \"A\" \"A\" ...\n",
      " $ Mem_Score_Before: num  63.5 41.6 59.7 51.7 47 66.4 44.1 76.3 56.2 54.8 ...\n",
      " $ Mem_Score_After : num  61.2 40.7 55.1 51.2 47.1 58.1 56 74.8 45 75.9 ...\n",
      " $ Diff            : num  -2.3 -0.9 -4.6 -0.5 0.1 -8.3 11.9 -1.5 -11.2 21.1 ...\n"
     ]
    }
   ],
   "source": [
    "# Kiểm tra tính độc lập của dữ liệu\n",
    "duplicates = islander_raw[duplicated(islander_raw), ]\n",
    "duplicate_counts = table(islander_raw[duplicated(islander_raw), ])\n",
    "duplicate_counts"
   ]
  },
  {
   "attachments": {},
   "cell_type": "markdown",
   "metadata": {},
   "source": [
    "#### Kiểm tra tỷ lệ missing"
   ]
  },
  {
   "cell_type": "code",
   "execution_count": null,
   "metadata": {},
   "outputs": [],
   "source": [
    "# Kiểm tra tỷ lệ missing\n",
    "missing_ratio = function(s) {\n",
    "  round(mean(is.na(s)) * 100, 1)\n",
    "}\n",
    "sapply(islander_raw, missing_ratio)"
   ]
  },
  {
   "attachments": {},
   "cell_type": "markdown",
   "metadata": {},
   "source": [
    "#### Kiểm tra outliers\n",
    "- Trong bộ dữ liệu, chỉ có 2 biến có dạng giá trị là numerics là `age` và `Diff`; chúng ta sẽ trực quan bằng boxplot"
   ]
  },
  {
   "cell_type": "code",
   "execution_count": null,
   "metadata": {},
   "outputs": [],
   "source": [
    "summary(islander_raw[c(\"age\", \"Diff\")])\n",
    "# Create a box plot\n",
    "boxplot(islander_raw[c(\"age\", \"Diff\")], main=\"Outliers Analysis\", col=\"lightblue\")"
   ]
  },
  {
   "attachments": {},
   "cell_type": "markdown",
   "metadata": {},
   "source": [
    "Nhận xét:\n",
    "- `age`: Có một vài điểm cực ngoại lại ở phía trên\n",
    "- `Diff`: Tồn tại nhiều điểm cực ngoại lai ở trên và ở phía dưới box\n"
   ]
  },
  {
   "attachments": {},
   "cell_type": "markdown",
   "metadata": {},
   "source": [
    "- Tiếp tục vẽ biểu đồ dạng histogram để trực quan các phân bố của dữ liệu"
   ]
  },
  {
   "cell_type": "code",
   "execution_count": null,
   "metadata": {},
   "outputs": [],
   "source": [
    "# Biến Age\n",
    "ggplot(islander_raw, aes(x = age)) +\n",
    "  geom_histogram(aes(y = ..density..), bins = 30, color = \"black\", fill = \"lightblue\") +\n",
    "  geom_density(alpha = 0.2, fill = \"#FF6666\") +\n",
    "  stat_function(fun = dnorm, args = list(mean = mean(islander_raw$age, na.rm = TRUE), sd = sd(islander_raw$age, na.rm = TRUE)),\n",
    "                color = \"blue\", size = 1) +\n",
    "  theme_minimal() +\n",
    "  labs(title = \"Histogram of age variable\", x = \"age\", y = \"Density\")\n",
    "\n",
    "# Biến Diff\n",
    "ggplot(islander_raw, aes(x = age)) +\n",
    "  geom_histogram(aes(y = ..density..), bins = 30, color = \"black\", fill = \"lightblue\") +\n",
    "  geom_density(alpha = 0.2, fill = \"#FF6666\") +\n",
    "  stat_function(fun = dnorm, args = list(mean = mean(islander_raw$Diff, na.rm = TRUE), sd = sd(islander_raw$Diff, na.rm = TRUE)),\n",
    "                color = \"blue\", size = 1) +\n",
    "  theme_minimal() +\n",
    "  labs(title = \"Histogram of age variable\", x = \"Diff\", y = \"Density\")\n"
   ]
  },
  {
   "attachments": {},
   "cell_type": "markdown",
   "metadata": {},
   "source": [
    "Nhận xét:\n",
    "- `Age`: Không có dạng phân bố chuẩn, lệch trái so với giá trị trung bình\n",
    "- `Diff`: Có dạng phân bố gần chuẩn"
   ]
  },
  {
   "cell_type": "code",
   "execution_count": 2,
   "metadata": {},
   "outputs": [
    {
     "ename": "SyntaxError",
     "evalue": "invalid syntax (3727006687.py, line 2)",
     "output_type": "error",
     "traceback": [
      "\u001b[0;36m  Cell \u001b[0;32mIn[2], line 2\u001b[0;36m\u001b[0m\n\u001b[0;31m    processed_islander = islander_raw[, !(names(islander_raw) %in% c(\"first_name\", \"last_name\", \"Mem_Score_Before\", \"Mem_Score_After\"))]\u001b[0m\n\u001b[0m                                      ^\u001b[0m\n\u001b[0;31mSyntaxError\u001b[0m\u001b[0;31m:\u001b[0m invalid syntax\n"
     ]
    }
   ],
   "source": [
    "# Loại bỏ các biến: first_name, last_name, Mem_Score_Before và Mem_Score_After\n",
    "processed_islander = islander_raw[, !(names(islander_raw) %in% c(\"first_name\", \"last_name\", \"Mem_Score_Before\", \"Mem_Score_After\"))]\n",
    "\n",
    "# Chia tuổi thành 2 nhóm < 50 tuổi và nhóm còn lại\n",
    "processed_islander$age = processed_islander$age >= 50\n",
    "\n",
    "# asFactor\n",
    "processed_islander$age = factor(processed_islander$age)\n",
    "processed_islander$Dosage = factor(processed_islander$Dosage)\n",
    "processed_islander$Drug = factor(processed_islander$Drug)\n",
    "processed_islander$Happy_Sad_group = factor(processed_islander$Happy_Sad_group)\n",
    "\n",
    "levels(processed_islander$age)\n",
    "levels(processed_islander$Drug)\n",
    "levels(processed_islander$Dosage)\n",
    "levels(processed_islander$Happy_Sad_group)"
   ]
  },
  {
   "attachments": {},
   "cell_type": "markdown",
   "metadata": {},
   "source": [
    "### Loại bỏ các biến dư thừa và đưa về dạng phù hợp"
   ]
  },
  {
   "cell_type": "code",
   "execution_count": null,
   "metadata": {},
   "outputs": [],
   "source": [
    "# Loại bỏ các biến: first_name, last_name, Mem_Score_Before và Mem_Score_After\n",
    "processed_islander = islander_raw[, !(names(islander_raw) %in% c(\"first_name\", \"last_name\", \"Mem_Score_Before\", \"Mem_Score_After\"))]\n",
    "\n",
    "# Chia tuổi thành 2 nhóm < 50 tuổi và nhóm còn lại\n",
    "processed_islander$age = processed_islander$age >= 50\n",
    "\n",
    "processed_islander$age = factor(processed_islander$age)\n",
    "processed_islander$Dosage = factor(processed_islander$Dosage)\n",
    "processed_islander$Drug = factor(processed_islander$Drug)\n",
    "processed_islander$Happy_Sad_group = factor(processed_islander$Happy_Sad_group)\n",
    "levels(processed_islander$age)\n",
    "levels(processed_islander$Drug)\n",
    "levels(processed_islander$Dosage)\n",
    "levels(processed_islander$Happy_Sad_group)"
   ]
  },
  {
   "attachments": {},
   "cell_type": "markdown",
   "metadata": {},
   "source": [
    "Xây dựng mô hình ANOVA để xem xét sự phụ thuộc của biến phụ thuộc và biến độc lập"
   ]
  },
  {
   "attachments": {},
   "cell_type": "markdown",
   "metadata": {},
   "source": [
    "diff_aov = aov(Diff~., data = processed_islander)\n",
    "summary(diff_aov)"
   ]
  },
  {
   "attachments": {},
   "cell_type": "markdown",
   "metadata": {},
   "source": [
    "Nhìn vào bảng kết quả, ta thấy rằng thực tế các biến `Happy_Sad_group` và `age` không tham gia vào quá trình giải thích ý nghĩa của biến phụ thuộc `Diff` (với mức ý nghĩa 5%). Do đó, ta chỉ chọn 2 biến `Drug` và `Dosage` để tiến hành khảo sát. Vậy:\n",
    "- Mục tiêu: Khảo sát về tác dụng phụ của các loại thuốc chống trầm cảm đối với trí nhớ của người tham gia thử nghiệm, được đánh giá thông qua thời gian hoàn thành một bài kiểm tra trí nhớ\n",
    "- Biến phản hồi: `Diff` cho biết chênh lệch giữa thời gian (giây) hoàn thành bài kiểm tra trước và sau khi sử dụng thuốc.\n",
    "- Biến nhân tố:\n",
    "    - **Drug**: Gồm 3 nhóm `A` (Alprazolam), `S` (Placebo) và `T` (Triazolam)\n",
    "    - **Dosage**: Gồm 3 nhóm `1` (thấp), `2` (trung bình) và `3` (Cao)\n"
   ]
  },
  {
   "attachments": {},
   "cell_type": "markdown",
   "metadata": {},
   "source": [
    "### Visualize dữ liệu"
   ]
  },
  {
   "cell_type": "code",
   "execution_count": null,
   "metadata": {},
   "outputs": [],
   "source": [
    "# Loại biến `age` và `Happy_Sad_group`\n",
    "processed_islander = processed_islander[, !(names(processed_islander) %in% c(\"age\", \"Happy_Sad_group\"))]"
   ]
  },
  {
   "attachments": {},
   "cell_type": "markdown",
   "metadata": {},
   "source": [
    "#### Visualize biến Dosage"
   ]
  },
  {
   "cell_type": "code",
   "execution_count": null,
   "metadata": {},
   "outputs": [],
   "source": [
    "ggplot(processed_islander ,aes(x=Dosage, y=Diff, colour=Dosage, fill=Dosage))+\n",
    "  geom_jitter(width=0.25)+\n",
    "  geom_boxplot(alpha=0.25, outlier.alpha=0) +\n",
    "  stat_summary(fun.y=mean, colour=\"black\", geom=\"point\",\n",
    "               shape=18, size=3,show.legend = FALSE) +\n",
    "  theme_classic() +\n",
    "  theme(legend.position=\"none\")+\n",
    "  theme(axis.text = element_text(angle=30, hjust=1, vjust=1))"
   ]
  },
  {
   "attachments": {},
   "cell_type": "markdown",
   "metadata": {},
   "source": [
    "**Nhận xét:**\n",
    "- Liều lượng thấp:\n",
    "    - Trung vị Diff gần bằng 0, với phạm vi nhỏ.\n",
    "    - Hầu hết các điểm dữ liệu tập trung xung quanh trung vị, với một vài ngoại lệ.\n",
    "- Liều lượng trung bình:\n",
    "    - Trung vị Diff vẫn gần bằng 0, nhưng phạm vi dữ liệu lớn hơn một chút so với liều lượng thấp.\n",
    "    - Có sự phân bố rộng hơn của các điểm, cho thấy sự biến đổi nhiều hơn trong các phản ứng.\n",
    "- Liều lượng cao:\n",
    "    - Trung vị Diff cao hơn so với các nhóm khác, gợi ý rằng liều lượng thuốc này có tác dụng lớn hơn.\n",
    "    - Có sự biến đổi lớn, với một số điểm nằm khá cao hoặc thấp so với trung vị.\n",
    "    - IQR lớn hơn và sự hiện diện của các ngoại lệ cho thấy một phạm vi rộng của các phản ứng đối với liều lượng cao.\n",
    "\n",
    "**Kết luận**\n",
    "- Biểu đồ gợi ý rằng liều lượng cao hơn có thể có tác động đáng kể hơn đến thời gian hoàn thành bài kiểm tra trí nhớ, được chỉ ra bởi trung vị cao hơn và sự biến đổi lớn hơn trong Diff.\n",
    "- Liều lượng thấp và trung bình cho thấy sự thay đổi nhỏ hơn và ít biến đổi hơn, với nhiều người tham gia có ít hoặc không thay đổi trong thời gian hoàn thành.\n",
    "- Sự phân bố rộng hơn và trung vị cao hơn trong nhóm liều lượng cao có thể cho thấy rằng mặc dù một số người tham gia có lợi ích đáng kể, những người khác có thể gặp tác dụng phụ, dẫn đến phản ứng không tốt."
   ]
  },
  {
   "attachments": {},
   "cell_type": "markdown",
   "metadata": {},
   "source": [
    "#### Visualize biến Drug"
   ]
  },
  {
   "cell_type": "code",
   "execution_count": null,
   "metadata": {},
   "outputs": [],
   "source": [
    "# Biến Drug\n",
    "ggplot(processed_islander ,aes(x=Drug, y=Diff, colour=Drug,fill=Drug))+\n",
    "  geom_jitter(width=0.25)+\n",
    "  geom_boxplot(alpha=0.25, outlier.alpha=0) +\n",
    "  stat_summary(fun.y=mean, colour=\"black\", geom=\"point\",\n",
    "               shape=18, size=3,show.legend = FALSE)+\n",
    "  theme_classic()+\n",
    "  theme(legend.position=\"none\")+\n",
    "  theme(axis.text = element_text(angle=30, hjust=1, vjust=1))"
   ]
  },
  {
   "attachments": {},
   "cell_type": "markdown",
   "metadata": {},
   "source": [
    "**Nhận xét:**\n",
    "- Alprazolam (A):\n",
    "    - Trung vị Diff khá xa với điểm 0 hơn các loại thuốc khác.\n",
    "    - Có nhiều điểm ngoại lệ, đặc biệt ở phía trên, cho thấy một số người tham gia có sự cải thiện đáng kể về thời gian hoàn thành bài kiểm tra.\n",
    "    - Trung bình Diff cũng cao hơn, gợi ý rằng Alprazolam có thể có tác dụng tích cực đối với một số người tham gia.\n",
    "\n",
    "- Triazolam (T):\n",
    "    - Trung vị Diff gần bằng 0, với phạm vi và sự phân tán nhỏ hơn so với Alprazolam.\n",
    "    - Trung bình Diff gần với trung vị, cho thấy tác dụng của Triazolam ít biến đổi hơn.\n",
    "- Placebo (S):\n",
    "    - Trung vị Diff gần bằng 0, với phạm vi và sự phân tán tương tự như Triazolam.\n",
    "    - Có một số điểm ngoại lệ, nhưng không nhiều.\n",
    "    - Trung bình Diff gần với trung vị, cho thấy tác dụng của giả dược (Placebo) ít biến đổi và không có hiệu quả đáng kể.\n",
    "\n",
    "**Kết luận**\n",
    "- Alprazolam (A): Có tác dụng đáng kể đối với một số người tham gia, nhưng cũng có nhiều biến đổi, cho thấy có thể có tác dụng phụ hoặc tác động không đồng nhất.\n",
    "- Triazolam (T) và Placebo (S): Không có sự thay đổi đáng kể trong thời gian hoàn thành bài kiểm tra, gợi ý rằng các loại thuốc này có ít hoặc không có tác dụng cải thiện trí nhớ."
   ]
  },
  {
   "attachments": {},
   "cell_type": "markdown",
   "metadata": {},
   "source": [
    "#### Visualize biến phụ thuộc Diff"
   ]
  },
  {
   "cell_type": "code",
   "execution_count": null,
   "metadata": {},
   "outputs": [],
   "source": [
    "# Biến phụ thuộc Diff\n",
    "ggplot(processed_islander, aes(x = Diff)) +\n",
    "  geom_histogram(aes(y = ..density..), bins = 30, color = \"black\", fill = \"lightblue\") +\n",
    "  geom_density(alpha = 0.2, fill = \"#FF6666\") +\n",
    "  stat_function(fun = dnorm, args = list(mean = mean(processed_islander$Diff, na.rm = TRUE), sd = sd(processed_islander$Diff, na.rm = TRUE)),\n",
    "                color = \"blue\", size = 1) +\n",
    "  theme_minimal() +\n",
    "  labs(title = \"Histogram of Diff variable\", x = \"Diff\", y = \"Density\")\n",
    "  summary(processed_islander$Diff)"
   ]
  },
  {
   "attachments": {},
   "cell_type": "markdown",
   "metadata": {},
   "source": [
    "Nhận xét:\n",
    "\n",
    "- Độ Lệch:\n",
    "\n",
    "    - Trung bình (Mean) của biến Diff là 2.955, cho thấy thời gian trung bình hoàn thành bài kiểm tra sau khi dùng thuốc tăng thêm khoảng 2.955 giây.\n",
    "    - Median (Trung vị) là 1.700, thấp hơn giá trị trung bình, cho thấy sự phân phối không hoàn toàn đối xứng.\n",
    "- Phân Bố Dữ Liệu:\n",
    "\n",
    "    - Dữ liệu phân bố khá gần với phân phối chuẩn, nhưng có một vài khác biệt:\n",
    "    - Có một sự tập trung dữ liệu khá cao xung quanh giá trị 0 đến 5, tạo nên một đỉnh phân phối cao hơn so với đường chuẩn.\n",
    "    - Có sự lan tỏa dữ liệu về cả hai phía của đỉnh, nhưng ít hơn ở phía cực trái (khoảng -40) và cực phải (khoảng 50).\n",
    "\n",
    "- Khoảng Tứ Phân Vị:\n",
    "\n",
    "    - 1st Qu. (Quartile đầu tiên): -3.175.\n",
    "    - 3rd Qu. (Quartile thứ ba): 5.925.\n",
    "    - Điều này cho thấy phần lớn dữ liệu nằm trong khoảng từ -3.175 đến 5.925, một khoảng phân tán rộng nhưng không đối xứng hoàn toàn quanh trung vị.\n",
    "- Đỉnh và Đuôi: Biểu đồ cho thấy một đỉnh lớn, khá hẹp, và hai đuôi phân phối khá dài, đặc biệt ở phía phải (hơn 25). Điều này chỉ ra rằng có một số giá trị cực đại cao (tăng lớn trong thời gian hoàn thành bài kiểm tra sau khi dùng thuốc).\n",
    "- Kết Luận:\n",
    "    - Sự Phân Tán và Độ Lệch: Biểu đồ cho thấy sự tăng thời gian hoàn thành bài kiểm tra (Diff) sau khi dùng thuốc là phổ biến, với giá trị trung bình dương. Tuy nhiên, phân phối không hoàn toàn đối xứng, với một số giá trị cực đại ở cả hai phía.\n",
    "    - Khả Năng Phân Phối Chuẩn: Phân phối của biến Diff khá gần với phân phối chuẩn, nhưng có một số khác biệt như đỉnh phân phối cao hơn và đuôi phân phối dài hơn. Điều này có thể là do tác động của một số cá nhân phản ứng mạnh mẽ với thuốc hơn so với phần còn lại."
   ]
  },
  {
   "attachments": {},
   "cell_type": "markdown",
   "metadata": {},
   "source": [
    "## Kiểm định các giả thuyết thống kê (ANOVA assumptions)\n",
    "Gồm các bước sau:\n",
    "- Các mẫu độc lập (Thỏa mãn bước tiền xử lý)\n",
    "- Biến phụ thuộc là biến liên tục (Thỏa mãn)\n",
    "- Các nhóm có phân phối chuẩn hoặc gần chuẩn\n",
    "- Sai số có phân phối chuẩn"
   ]
  },
  {
   "attachments": {},
   "cell_type": "markdown",
   "metadata": {},
   "source": [
    "### Xây dựng và kiểm định mô hình tương tác (Interaction model)"
   ]
  },
  {
   "cell_type": "code",
   "execution_count": null,
   "metadata": {},
   "outputs": [],
   "source": [
    "# Xây dựng mô hình tương tác\n",
    "int_model = aov(Diff~Dosage * Drug, data = processed_islander)\n",
    "summary(int_model)"
   ]
  },
  {
   "cell_type": "code",
   "execution_count": null,
   "metadata": {},
   "outputs": [],
   "source": [
    "# Shapiro-Wilk test\n",
    "av_residual = rstandard(int_model)\n",
    "shapiro.test(av_residual)\n",
    "# Trực quan bằng QQ plot##\n",
    "qqnorm(av_residual)\n",
    "qqline(av_residual)\n",
    "hist(av_residual)"
   ]
  },
  {
   "attachments": {},
   "cell_type": "markdown",
   "metadata": {},
   "source": [
    "Giả định:\n",
    "- H0: Tuân theo phân phối chuẩn\n",
    "- H1: Không tuân theo phân phối chuẩn\n",
    "\n",
    "Nhận xét: với độ tin cậy 5% thì với giá trị p-value = 7.794e-06 chúng ta đủ cơ sở bác bỏ H0, vậy sai số có phân phối không chuẩn. Nhìn vào biểu đồ, ta thấy rằng ở phần đuôi kéo dài, có một vài điểm bị kéo lệch ra khỏi đường thẳng --> Khả năng các điểm nhiễu chính là các điểm ngoại lệ (outliners), tuy nhiên, về mặt tổng quan, dữ liệu vẫn có dạng gần chuẩn,"
   ]
  },
  {
   "cell_type": "code",
   "execution_count": null,
   "metadata": {},
   "outputs": [],
   "source": [
    "# Kiểm định các nhóm có phương sai đồng nhất hay không\n",
    "leveneTest(int_model)"
   ]
  },
  {
   "attachments": {},
   "cell_type": "markdown",
   "metadata": {},
   "source": [
    "Giả định:\n",
    "- H0: Các nhóm có phương sai đồng nhất\n",
    "- H1: Các nhóm không có phương sai đồng nhất\n",
    "\n",
    "Nhận xét: Với giá trị p-value = 0.4404991 > 0.05, ta không đủ điều kiện bác bỏ H0, vậy các nhóm có phương sai đồng nhất."
   ]
  },
  {
   "cell_type": "code",
   "execution_count": null,
   "metadata": {},
   "outputs": [],
   "source": [
    "# Kiểm định tính độc lập của phần dư\n",
    "durbinWatsonTest(int_model)\n",
    "plot(int_model, 1)"
   ]
  },
  {
   "attachments": {},
   "cell_type": "markdown",
   "metadata": {},
   "source": [
    "Nhận xét"
   ]
  },
  {
   "attachments": {},
   "cell_type": "markdown",
   "metadata": {},
   "source": [
    "### Phân tích phương sai k nhân tố\n",
    "Gồm các bước sau\n",
    "- Kiểm tra sự tương tác\n",
    "- Phân tích ảnh hưởng đơn\n",
    "    - Phân tích ảnh hưởng đơn của liều lượng ở mỗi loại thuốc\n",
    "    - Phân tích ảnh hưởng đơn của thuốc ở mỗi liều lượng"
   ]
  },
  {
   "attachments": {},
   "cell_type": "markdown",
   "metadata": {},
   "source": [
    "#### Kiểm tra sự tương tác"
   ]
  },
  {
   "cell_type": "code",
   "execution_count": null,
   "metadata": {},
   "outputs": [],
   "source": [
    "int_model = aov(Diff~Dosage * Drug, data = processed_islander)\n",
    "summary(int_model)\n",
    "plot(interactionMeans(int_model))"
   ]
  },
  {
   "attachments": {},
   "cell_type": "markdown",
   "metadata": {},
   "source": [
    "Nhận xét:\n",
    "- Với mức ý nghĩa 5%, ta thấy giữa `Dosage` và `Drug` có sự tương tác với nhau (p-value=8.74e-14). Sự kết hợp giữa hàm lượng thuốc và loại thuốc có ảnh hưởng rất lớn đến thời gian hoàn thành bài kiểm tra, cho thấy rằng không chỉ từng yếu tố riêng lẻ mà sự kết hợp giữa chúng cũng rất quan trọng.\n",
    "\n",
    "- Dosage 1 (Hàm lượng thấp):\n",
    "    - Drug A (Alprazolam): Ảnh hưởng không đáng kể, trung bình Diff gần như bằng 0, cho thấy không có thay đổi lớn về thời gian hoàn thành bài kiểm tra.\n",
    "    - Drug S (Placebo): Có sự gia tăng rõ rệt trong thời gian hoàn thành bài kiểm tra (trung bình Diff > 0), nghĩa là loại thuốc này có tác động làm nhanh thời gian hoàn thành bài kiểm tra.\n",
    "    - Drug T (Triazolam): Có tác động xấu đối với trí nhớ của bệnh nhân (trung bình < 0) , nghĩa là loại thuốc này có tác động làm chậm thời gian hoàn thành bài kiểm tra.\n",
    "- Dosage 2 (Hàm lượng trung bình):\n",
    "    - Drug A (Alprazolam): Có tác động làm nhanh thời gian hoàn thành bài kiểm tra một cách rõ rệt so với liều thấp.\n",
    "    - Drug S (Placebo): Cho thấy hiệu quả giảm thấp so với liều thấp (Thời gian hoàn thành bài kiểm tra tăng lên rõ rệt).\n",
    "    - Drug T (Triazolam):  Có tác động làm nhanh thời gian hoàn thành bài kiểm tra một cách rõ rệt so với liều thấp (nhưng không bằng A).\n",
    "- Dosage 3 (Hàm lượng cao):\n",
    "    - Drug A (Alprazolam): Có sự gia tăng đáng kể nhất trong thời gian hoàn thành bài kiểm tra, cho thấy ảnh hưởng lớn khi tăng hàm lượng thuốc.\n",
    "    - Drug S (Placebo): Có sự giảm sút trong thời gian hoàn thành bài kiểm tra (thời gian tăng lên), tệ nhất trong 3 liều lượng.\n",
    "    - Drug T (Triazolam): Tiếp tục cho thấy kết quả xấu trong bài kiểm tra, tệ nhất trong 3 liều lượng\n",
    "- Kết luận:\n",
    "    - Đối với loại thuốc A: Tốt nhất khi sử dụng liều cao\n",
    "    - Đối với loại thuốc S: Tốt nhất khi sử dụng liều thấp\n",
    "    - Đối với loại thuốc T: Tốt nhất khi sử dụng liều trung bình\n",
    "    - Loại A cho hiệu quả nhất, loại T cho kết quả tệ nhất\n",
    "    - Liều cao cho kết quả tốt nhất, liều thấp cho kết quả tệ nhất\n"
   ]
  },
  {
   "attachments": {},
   "cell_type": "markdown",
   "metadata": {},
   "source": [
    "#### Phân tích ảnh hưởng đơn"
   ]
  },
  {
   "attachments": {},
   "cell_type": "markdown",
   "metadata": {},
   "source": [
    "##### Phân tích ảnh hưởng đơn của liều lượng ở mỗi loại thuốc"
   ]
  },
  {
   "attachments": {},
   "cell_type": "markdown",
   "metadata": {},
   "source": [
    "testInteractions(int_model, fixed = \"Drug\", across = \"Dosage\")"
   ]
  },
  {
   "attachments": {},
   "cell_type": "markdown",
   "metadata": {},
   "source": [
    "Giả định:\n",
    "- H0: Liều lượng Không ảnh hưởng đến hiệu quả thuốc\n",
    "- H1: Liều lượng Có ảnh hưởng đến hiệu quả của thuốc\n",
    "\n",
    "Nhận xét: Với kết quả phân tích ta có một số nhận xét như sau, với độ tin cậy 5% thì:\n",
    "- Liều lượng có ảnh hưởng đến kết quả của loại thuốc A\n",
    "- Liều lượng không ảnh hưởng đến kết quả của lọa thuốc S và T"
   ]
  },
  {
   "attachments": {},
   "cell_type": "markdown",
   "metadata": {},
   "source": [
    "##### Phân tích ảnh hưởng đơn của thuốc ở mỗi liều lượng"
   ]
  },
  {
   "attachments": {},
   "cell_type": "markdown",
   "metadata": {},
   "source": [
    "testInteractions(int_model, fixed = \"Dosage\", across = \"Drug\")"
   ]
  },
  {
   "attachments": {},
   "cell_type": "markdown",
   "metadata": {},
   "source": [
    "Giả định:\n",
    "- H0: Các loại thuốc sẽ không tác động ở mỗi liều lượng\n",
    "- H1: Các loại thuốc sẽ có tác động ở mỗi liều lượng\n",
    "\n",
    "Nhận xét: Với kết quả phân tích ta có một số nhận xét như sau, với độ tin cậy 5% thì:\n",
    "- Hầu hết các loại thuốc sẽ có tác động ở liều lượng cao\n",
    "- Liều lượng trung bình cũng sẽ có tác động nhưng không đáng kể (có ý nghĩa ở mức 0.4%)\n",
    "- Liều luoựng thấp cho kết quả không đáng kể.\n",
    "- Có một số cặp nhóm có sự khác biệt có ý nghĩa thống kê, đặc biệt là giữa các nhóm với loại thuốc A-S và A-T.\n",
    "- Các nhóm với loại thuốc S-T không có sự khác biệt đáng kể."
   ]
  },
  {
   "attachments": {},
   "cell_type": "markdown",
   "metadata": {},
   "source": [
    "##### Phân tích ảnh hưởng đơn giữa các nhóm thuốc ứng với mỗi liều lượng"
   ]
  },
  {
   "cell_type": "code",
   "execution_count": null,
   "metadata": {},
   "outputs": [],
   "source": [
    "options(contrasts = c(unordered=\"contr.sum\", ordered=\"contr.poly\"))\n",
    "A_vs_S = list(Drug = c(1, -1, 0))\n",
    "A_vs_T = list(Drug = c(1, 0, -1))\n",
    "S_vs_T = list(Drug = c(0, 1, -1))"
   ]
  },
  {
   "cell_type": "code",
   "execution_count": null,
   "metadata": {},
   "outputs": [],
   "source": [
    "# Nhóm A và S\n",
    "testInteractions(int_model, custom = c(A_vs_S), fixed = \"Dosage\", adjustment = \"none\")"
   ]
  },
  {
   "attachments": {},
   "cell_type": "markdown",
   "metadata": {},
   "source": [
    "Giả định:\n",
    "- H0: Không có sự khác nhau giữa liều thấp và liều trung bình\n",
    "- H1: Có sự khác nhau giữa liều thấp và liều trung bình\n",
    "\n",
    "Nhận xét: Với độ tin cậy 5%\n",
    "- Ở loại thuốc A: Có sự khác biệt về hiệu quả khi sử dụng thuốc ở các  liều lượng thấp và liều lượng trung bình\n",
    "- Ở loại thuốc S và T: Không có sự khác biệt"
   ]
  },
  {
   "cell_type": "code",
   "execution_count": null,
   "metadata": {},
   "outputs": [],
   "source": [
    "# Nhóm A và T\n",
    "testInteractions(int_model, custom = c(A_vs_T), fixed = \"Drug\", adjustment = \"none\")"
   ]
  },
  {
   "attachments": {},
   "cell_type": "markdown",
   "metadata": {},
   "source": [
    "Giả định:\n",
    "- H0: Không có sự khác nhau giữa loại thuốc A và T\n",
    "- H1: Có sự khác nhau giữa loại thuốc A và T\n",
    "\n",
    "Nhận xét: Với độ tin cậy 5%\n",
    "- Ở liều cao: Có sự khác biệt về hiệu quả khi sử dụng thuốc ở các  loại thuốc A và T\n",
    "- Ở liều thấp và trung bình: Không có sựu ảnh hưởng rõ rệt"
   ]
  },
  {
   "cell_type": "code",
   "execution_count": null,
   "metadata": {},
   "outputs": [],
   "source": [
    "# Nhóm S và T\n",
    "testInteractions(int_model, custom = c(S_vs_T), fixed = \"Dosage\", adjustment = \"none\")"
   ]
  },
  {
   "attachments": {},
   "cell_type": "markdown",
   "metadata": {},
   "source": [
    "Giả định:\n",
    "- H0: Không có sự khác nhau giữa loại thuốc S và T\n",
    "- H1: Có sự khác nhau giữa loại thuốc S và T\n",
    "\n",
    "Nhận xét: Với độ tin cậy 5%\n",
    "- Ở liều cao: Có sự khác biệt về hiệu quả khi sử dụng thuốc ở các  loại thuốc S và T\n",
    "- Ở liều thấp và trung bình: Không có sựu ảnh hưởng rõ rệt"
   ]
  },
  {
   "attachments": {},
   "cell_type": "markdown",
   "metadata": {},
   "source": [
    "**Nhận xét chung**\n",
    "- Ở loại thuốc A: Luôn cho kết quả  tốt ở bất kỳ liều lương nào so với các loại thuốc\n",
    "- Ở liều lượng cao: Luôn cho kết quả tốt hơn so với các liều luợng thấp"
   ]
  },
  {
   "attachments": {},
   "cell_type": "markdown",
   "metadata": {},
   "source": [
    "##### Phân tích ảnh hưởng đơn giữa các nhóm liều lượng ứng với mỗi loại thuốc"
   ]
  },
  {
   "attachments": {},
   "cell_type": "markdown",
   "metadata": {},
   "source": [
    "options(contrasts = c(unordered=\"contr.sum\", ordered=\"contr.poly\"))\n",
    "low_vs_medium = list(Dosage = c(1, -1, 0))\n",
    "low_vs_high = list(Dosage = c(1, 0, -1))\n",
    "medium_vs_high = list(Dosage = c(0, 1, -1))"
   ]
  },
  {
   "cell_type": "code",
   "execution_count": null,
   "metadata": {},
   "outputs": [],
   "source": [
    "# Nhóm thấp và trung bình\n",
    "testInteractions(int_model, custom = c(low_vs_medium), fixed = \"Drug\", adjustment = \"none\")"
   ]
  },
  {
   "attachments": {},
   "cell_type": "markdown",
   "metadata": {},
   "source": [
    "Giả định:\n",
    "- H0: Không có sự khác nhau giữa liều thấp và liều trung bình\n",
    "- H1: Có sự khác nhau giữa liều thấp và liều trung bình\n",
    "\n",
    "Nhận xét: Với độ tin cậy 5%\n",
    "- Ở loại thuốc A: Có sự khác biệt về hiệu quả khi sử dụng thuốc ở các  liều lượng thấp và liều lượng trung bình\n",
    "- Ở loại thuốc S và T: Không có sự khác biệt"
   ]
  },
  {
   "cell_type": "code",
   "execution_count": null,
   "metadata": {},
   "outputs": [],
   "source": [
    "# Nhóm thấp và cao\n",
    "testInteractions(int_model, custom = c(medium_vs_high), fixed = \"Drug\", adjustment = \"none\")"
   ]
  },
  {
   "attachments": {},
   "cell_type": "markdown",
   "metadata": {},
   "source": [
    "Giả định:\n",
    "- H0: Không có sự khác nhau giữa liều thấp và liều cao\n",
    "- H1: Có sự khác nhau giữa liều thấp và liều cao\n",
    "\n",
    "Nhận xét: Với độ tin cậy 5%\n",
    "- Ở loại thuốc A: Có sự khác biệt về hiệu quả khi sử dụng thuốc ở các  liều lượng thấp và liều lượng cao\n",
    "- Ở loại thuốc S và T: Không có sự khác biệt"
   ]
  },
  {
   "cell_type": "code",
   "execution_count": null,
   "metadata": {},
   "outputs": [],
   "source": [
    "# Nhóm trung bình và cao\n",
    "testInteractions(int_model, custom = c(medium_vs_high), fixed = \"Drug\", adjustment = \"none\")"
   ]
  },
  {
   "attachments": {},
   "cell_type": "markdown",
   "metadata": {},
   "source": [
    "Giả định:\n",
    "- H0: Không có sự khác nhau giữa liều trung bình và liều cao\n",
    "- H1: Có sự khác nhau giữa liều trung bình và liều cao\n",
    "\n",
    "Nhận xét: Với độ tin cậy 5%\n",
    "- Ở loại thuốc A: Có sự khác biệt về hiệu quả khi sử dụng thuốc ở các  liều lượng trung bình và liều lượng cao\n",
    "- Ở loại thuốc S và T: Không có sự khác biệt"
   ]
  },
  {
   "attachments": {},
   "cell_type": "markdown",
   "metadata": {},
   "source": [
    "**Nhận xét chung**\n",
    "- Hầu hết các liều lượng thấp và trung bình sẽ cho thấy mức độ ít tác động ở các loại thuốc\n",
    "- Hầu hết các loại thuốc T và S cho kết quả mức độ tác động ít so với loại A"
   ]
  },
  {
   "attachments": {},
   "cell_type": "markdown",
   "metadata": {},
   "source": [
    "#### Phân tích ảnh hưởng chính"
   ]
  },
  {
   "attachments": {},
   "cell_type": "markdown",
   "metadata": {},
   "source": [
    "##### Phân tích ảnh hưởng chính của Dosage với hiệu quả của bài kiểm tra trí nhớ\n",
    "Gồm các bước sau:\n",
    "- Xây dựng mô hình\n",
    "- Kiểm định các giả thiết của mô hình\n",
    "- Kiểm định trung bình của các nhóm\n",
    "- Nhận xét"
   ]
  },
  {
   "cell_type": "code",
   "execution_count": null,
   "metadata": {},
   "outputs": [],
   "source": [
    "dosage_model = aov(Diff~Dosage, data = processed_islander)\n",
    "summary(dosage_model)"
   ]
  },
  {
   "attachments": {},
   "cell_type": "markdown",
   "metadata": {},
   "source": [
    "Nhận xét: Với mức ý nghĩa 0.05, ta thấy rằng Dosage có ý nghĩa trong việc giải thích mô hình"
   ]
  },
  {
   "cell_type": "code",
   "execution_count": null,
   "metadata": {},
   "outputs": [],
   "source": [
    "# Shapiro-Wilk test\n",
    "av_residual = rstandard(dosage_model)\n",
    "shapiro.test(av_residual)\n",
    "\n",
    "# Trực quan bằng QQ plot\n",
    "qqnorm(av_residual)\n",
    "qqline(av_residual)\n",
    "hist(av_residual)"
   ]
  },
  {
   "attachments": {},
   "cell_type": "markdown",
   "metadata": {},
   "source": [
    "Giả định:\n",
    "- H0: Tuân theo phân phối chuẩn\n",
    "- H1: Không tuân theo phân phối chuẩn\n",
    "\n",
    "Nhận xét: với độ tin cậy 5% thì với giá trị p-value = 7.794e-06 chúng ta đủ cơ sở bác bỏ H0, vậy sai số có phân phối không chuẩn. Nhìn vào biểu đồ, ta thấy rằng ở phần đuôi kéo dài, có một vài điểm bị kéo lệch ra khỏi đường thẳng --> Khả năng các điểm nhiễu chính là các điểm ngoại lệ (outliners), tuy nhiên, về mặt tổng quan, dữ liệu vẫn có dạng gần chuẩn"
   ]
  },
  {
   "cell_type": "code",
   "execution_count": null,
   "metadata": {},
   "outputs": [],
   "source": [
    "# Kiểm định các nhóm có phương sai đồng nhất hay không\n",
    "leveneTest(dosage_model)"
   ]
  },
  {
   "attachments": {},
   "cell_type": "markdown",
   "metadata": {},
   "source": [
    "Giả định:\n",
    "- H0: Các nhóm có phương sai đồng nhất\n",
    "- H1: Các nhóm không có phương sai đồng nhất\n",
    "\n",
    "Nhận xét: Với giá trị p-value = 1.502826e-05 < 0.05, ta không đủ điều kiện bác bỏ H0, vậy các nhóm có phương sai đồng nhất."
   ]
  },
  {
   "cell_type": "code",
   "execution_count": null,
   "metadata": {},
   "outputs": [],
   "source": [
    "# Kiểm định tính độc lập của phần dư\n",
    "durbinWatsonTest(dosage_model)\n",
    "plot(dosage_model, 1)"
   ]
  },
  {
   "attachments": {},
   "cell_type": "markdown",
   "metadata": {},
   "source": [
    "Nhận xét:"
   ]
  },
  {
   "attachments": {},
   "cell_type": "markdown",
   "metadata": {},
   "source": [
    "Kiểm định trung bình giữa các nhóm liều lượng"
   ]
  },
  {
   "attachments": {},
   "cell_type": "markdown",
   "metadata": {},
   "source": [
    "with(processed_islander, pairwise.t.test(Diff, Dosage, p.adj = \"bonferroni\"))\n",
    "TukeyHSD(aov(Diff~Dosage, data=processed_islander), conf.level = 0.95)\n",
    "plot(TukeyHSD(aov(Diff~Dosage, data=processed_islander), conf.level = 0.95))"
   ]
  },
  {
   "attachments": {},
   "cell_type": "markdown",
   "metadata": {},
   "source": [
    "Giả định:\n",
    "- Giả thuyết:\n",
    "    + H0: Các giá trị trung bình giữa các cặp bằng nhau\n",
    "    + H1: Các giá trị trung bình giữa các cặp không bằng nhau\n",
    "- Nhìn vào kết quả ta có: Cặp 3-1 có p-value đều có giá trị nhỏ hơn 0.05 (độ tin cậy 95%) nên ta cơ sở để bác bỏ H0. Vậy rõ ràng giữa các nhóm này có giá trị trung bình là khác nhau. Nghĩa là các nhóm thuốc liều cao và thấp thì cho thấy mức độ ảnh hưởng đến bệnh nhân khác nhau. Còn các nhóm còn lại thì không, Để rõ hơn, ta tiến hành kiểm định Tukey's.\n",
    "- Nhìn vào kết quả và hình vẽ ta cũng thấy ngay giữa nhóm 3-1có mức độ hiệu quả trung bình khác nhau, 3-2 và 1-2 có mức độ hiệu quả trung bình như nhau (đồ thị cắt điểm 0)"
   ]
  },
  {
   "attachments": {},
   "cell_type": "markdown",
   "metadata": {},
   "source": [
    "Phân tích tương tác của từng nhóm liều lượng với nhau"
   ]
  },
  {
   "cell_type": "code",
   "execution_count": null,
   "metadata": {},
   "outputs": [],
   "source": [
    "A_vs_S = list(Dosage = c(1, -1, 0))\n",
    "A_vs_T = list(Dosage = c(1, 0, -1))\n",
    "S_vs_T = list(Dosage = c(0, 1, -1))\n",
    "testInteractions(int_model, custom = A_vs_S, adjustment = 'bonferroni')\n",
    "print(\"----------------------------------------------------------\")\n",
    "testInteractions(int_model, custom = A_vs_T, adjustment = 'bonferroni')\n",
    "print(\"----------------------------------------------------------\")\n",
    "testInteractions(int_model, custom = S_vs_T, adjustment = 'bonferroni')"
   ]
  },
  {
   "attachments": {},
   "cell_type": "markdown",
   "metadata": {},
   "source": [
    "Giả định:\n",
    "- H0: Không có sự tương tác giữa 2 nhóm thuốc được nhắc đến\n",
    "- H1: Có sự tương tác giữa 2 nhóm thuốc được nhắc đến\n",
    "\n",
    "Với p-value=0.05, ta có kết luận như sau:\n",
    "- Nhóm A và S có sự tuowg tác với nhau\n",
    "- Nhóm A và T có sự tương tác với nhau\n",
    "- Nhóm T và S không có sự tương tác với nhau"
   ]
  },
  {
   "attachments": {},
   "cell_type": "markdown",
   "metadata": {},
   "source": [
    "##### Phân tích ảnh hưởng chính của Drug với hiệu quả của bài kiểm tra trí nhớ\n",
    "Gồm các bước sau:\n",
    "- Xây dựng mô hình\n",
    "- Kiểm định các giả thiết của mô hình\n",
    "- Kiểm định trung bình của các nhóm\n",
    "- Nhận xét"
   ]
  },
  {
   "cell_type": "code",
   "execution_count": null,
   "metadata": {},
   "outputs": [],
   "source": [
    "drug_model = aov(Diff~Drug, data = processed_islander)\n",
    "summary(drug_model)"
   ]
  },
  {
   "attachments": {},
   "cell_type": "markdown",
   "metadata": {},
   "source": [
    "Nhận xét: Với mức ý nghĩa 0.05, ta thấy rằng Dosage có ý nghĩa trong việc giải thích mô hình"
   ]
  },
  {
   "cell_type": "code",
   "execution_count": null,
   "metadata": {},
   "outputs": [],
   "source": [
    "# Shapiro-Wilk test\n",
    "av_residual = rstandard(drug_model)\n",
    "shapiro.test(av_residual)\n",
    "\n",
    "# Trực quan bằng QQ plot\n",
    "qqnorm(av_residual)\n",
    "qqline(av_residual)\n",
    "hist(av_residual)"
   ]
  },
  {
   "attachments": {},
   "cell_type": "markdown",
   "metadata": {},
   "source": [
    "Giả định:\n",
    "- H0: Tuân theo phân phối chuẩn\n",
    "- H1: Không tuân theo phân phối chuẩn\n",
    "\n",
    "Nhận xét: với độ tin cậy 5% thì với giá trị p-value = 7.794e-06 chúng ta đủ cơ sở bác bỏ H0, vậy sai số có phân phối không chuẩn. Nhìn vào biểu đồ, ta thấy rằng ở phần đuôi kéo dài, có một vài điểm bị kéo lệch ra khỏi đường thẳng --> Khả năng các điểm nhiễu chính là các điểm ngoại lệ (outliners), tuy nhiên, về mặt tổng quan, dữ liệu vẫn có dạng gần chuẩn"
   ]
  },
  {
   "cell_type": "code",
   "execution_count": null,
   "metadata": {},
   "outputs": [],
   "source": [
    "# Kiểm định các nhóm có phương sai đồng nhất hay không\n",
    "leveneTest(drug_model)"
   ]
  },
  {
   "attachments": {},
   "cell_type": "markdown",
   "metadata": {},
   "source": [
    "Giả định:\n",
    "- H0: Các nhóm có phương sai đồng nhất\n",
    "- H1: Các nhóm không có phương sai đồng nhất\n",
    "\n",
    "Nhận xét: Với giá trị p-value = 1.502826e-05 < 0.05, ta không đủ điều kiện bác bỏ H0, vậy các nhóm có phương sai đồng nhất."
   ]
  },
  {
   "cell_type": "code",
   "execution_count": null,
   "metadata": {},
   "outputs": [],
   "source": [
    "# Kiểm định tính độc lập của phần dư\n",
    "durbinWatsonTest(drug_model)\n",
    "plot(drug_model, 1)"
   ]
  },
  {
   "attachments": {},
   "cell_type": "markdown",
   "metadata": {},
   "source": [
    "Nhận xét"
   ]
  },
  {
   "attachments": {},
   "cell_type": "markdown",
   "metadata": {},
   "source": [
    "Kiểm định độ hiệu quả trung bình giữa các nhóm thuốc"
   ]
  },
  {
   "cell_type": "code",
   "execution_count": null,
   "metadata": {},
   "outputs": [],
   "source": [
    "# Kiểm tra mức độ hiệu quả trung bình của từng nhóm thuốc\n",
    "# produce a plot of these confidence intervals\n",
    "with(processed_islander, pairwise.t.test(Diff, Drug, p.adj = \"bonferroni\"))\n",
    "TukeyHSD(aov(Diff~Drug, data=processed_islander), conf.level = 0.95)\n",
    "plot(TukeyHSD(aov(Diff~Drug, data=processed_islander), conf.level = 0.95))"
   ]
  },
  {
   "attachments": {},
   "cell_type": "markdown",
   "metadata": {},
   "source": [
    "Giả định:\n",
    "- Giả thuyết:\n",
    "    + H0: Các giá trị trung bình giữa các cặp bằng nhau\n",
    "    + H1: Các giá trị trung bình giữa các cặp không bằng nhau\n",
    "- Nhìn vào kết quả ta có: Các p-value đều có giá trị nhỏ hơn 0.05 (độ tin cậy 95%) nên ta có cơ sở để bác bỏ H0. Vậy rõ ràng giữa các nhóm này có giá trị trung bình là khác nhau. Nghĩa là các nhóm thuốc khác nhau thì cho thấy mức độ ảnh hưởng đến bệnh nhân khác nhau. Để rõ hơn, ta tiến hành kiểm định Tukey's\n",
    "- Nhìn vào kết quả và hình vẽ ta cũng thấy ngay giữa nhóm S-A và T-A có mức độ hiệu quả trung bình khác nhau, T-S có mức độ hiệu quả trung bình như nhau (đồ thị cắt điểm 0)"
   ]
  },
  {
   "attachments": {},
   "cell_type": "markdown",
   "metadata": {},
   "source": [
    "### Xây dựng và kiểm định mô hình cộng (Additive model)\n",
    "Gồm các bước sau:\n",
    "- Xây dựng mô hình với các biến\n",
    "- Kiểm định mô hình\n",
    "- Kiểm tra sự tương tác chính (đã làm ở mô hình tương tác)"
   ]
  },
  {
   "cell_type": "code",
   "execution_count": null,
   "metadata": {},
   "outputs": [],
   "source": [
    "add_model = aov(Diff~Drug + Dosage, processed_islander)\n",
    "summary(add_model)"
   ]
  },
  {
   "cell_type": "code",
   "execution_count": null,
   "metadata": {},
   "outputs": [],
   "source": [
    "# Shapiro-Wilk test\n",
    "av_residual = rstandard(drug_model)\n",
    "shapiro.test(av_residual)\n",
    "\n",
    "# Trực quan bằng QQ plot\n",
    "qqnorm(av_residual)\n",
    "qqline(av_residual)\n",
    "hist(av_residual)"
   ]
  },
  {
   "cell_type": "code",
   "execution_count": null,
   "metadata": {},
   "outputs": [],
   "source": [
    "# Kiểm định tính độc lập của phần dư\n",
    "durbinWatsonTest(add_model)\n",
    "plot(add_model, 1)"
   ]
  },
  {
   "attachments": {},
   "cell_type": "markdown",
   "metadata": {},
   "source": []
  },
  {
   "cell_type": "code",
   "execution_count": null,
   "metadata": {},
   "outputs": [],
   "source": []
  }
 ],
 "metadata": {
  "kernelspec": {
   "display_name": "base",
   "language": "python",
   "name": "python3"
  },
  "language_info": {
   "codemirror_mode": {
    "name": "ipython",
    "version": 3
   },
   "file_extension": ".py",
   "mimetype": "text/x-python",
   "name": "python",
   "nbconvert_exporter": "python",
   "pygments_lexer": "ipython3",
   "version": "3.11.4"
  },
  "vscode": {
   "interpreter": {
    "hash": "a10d2bd20fccd5d72246b4fc154cb26cf3a12b383d75933113bed87fd89d9525"
   }
  }
 },
 "nbformat": 4,
 "nbformat_minor": 2
}
