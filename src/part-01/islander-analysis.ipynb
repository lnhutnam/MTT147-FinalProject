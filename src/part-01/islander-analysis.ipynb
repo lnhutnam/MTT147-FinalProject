{
 "cells": [
  {
   "cell_type": "markdown",
   "metadata": {},
   "source": [
    "# Phân tích tác dụng các loại thuốc chống trầm cảm"
   ]
  },
  {
   "cell_type": "markdown",
   "metadata": {},
   "source": [
    "Thành viên:\n",
    "- 23C24004 - Lê Nhựt Nam\n",
    "- 23C24005 - Phạm Thừa Tiểu Thành"
   ]
  },
  {
   "cell_type": "markdown",
   "metadata": {},
   "source": [
    "**Ngữ cảnh vấn đề**: Dữ liệu được cho trong tập tin chứa thông tin về một thử nghiệm về tác dụng phụ của các loại thuốc chống trầm cảm đối với trí nhớ của người tham gia thử nghiệm, được đánh giá thông qua thời gian hoàn thành một bài kiểm tra trí nhớ. Người tham gia thử nghiệm sẽ được sử dụng một trong ba loại thuốc khác nhau, với 3 hàm lượng khác nhau và sẽ tiếp xúc với các\n",
    "ký ức vui hoặc buồn trong vòng 10 phút trước khi tiến hành kiểm tra. Thời gian hoàn thành bài kiểm tra của người tham gia sẽ được ghi nhận trước và sau khi kết thúc thử nghiệm để đánh giá hiệu quả của từng loại thuốc cũng như hàm lượng thuốc khác nhau. (Những người này đều trên 25 tuổi nhằm đảm bảo thuỳ trán phát triển hoàn thiện, nơi đảm nhận chức năng nhận thức và gợi lại ký ức). Dữ liệu được thu thập bởi ông Almohalwas tại UCLA bao gồm 198 quan trắc với 9 biến."
   ]
  },
  {
   "cell_type": "markdown",
   "metadata": {},
   "source": [
    "## Dẫn nhập"
   ]
  },
  {
   "cell_type": "markdown",
   "metadata": {},
   "source": [
    "Các loại thuốc benzodiazepin đã cho thấy có tác dụng phá vỡ tác động tích cực của tiềm năng lâu dài giữa các tế bào đối với việc thu hồi trí nhớ và các mối liên hệ đã biết. Bằng cách phân biệt các tác dụng phụ lâu dài của Alprazolam (dài hạn) và Triazolam (ngắn hạn), bệnh nhân có thể được chẩn đoán tốt hơn để giảm thiểu bất kỳ tổn thương nào đối với khả năng siêu nhận thức (metacognition) và thu hồi trí nhớ của não. Nghiên cứu sâu hơn cũng chỉ ra rằng chỉ cần nhớ lại những ký ức cụ thể có liên quan đến cảm xúc mạnh mẽ sẽ khiến những cảm xúc đó được hiện thực hóa ở thời điểm hiện tại và ảnh hưởng đến những suy nghĩ trong tương lai trong một khoảng thời gian ngắn (khoảng 10 phút). Sự hiện diện của cảm xúc vui và cảm xúc buồn được quan tâm và được biết là có ảnh hưởng đáng kể đến việc thu hồi trí nhớ, từ đó đặt ra câu hỏi, những ảnh hưởng nào đến hiệu suất thu hồi trí nhớ của các thuốc benzodiazepin sau khi được bắt đầu bằng ký ức vui hay buồn? Nghiên cứu lâm sàng này sẽ cho thấy liệu tâm trạng của ký ức hỗ trợ hoặc cản trở việc nhớ lại trí nhớ có độc lập với các yếu tố khác hay không, nếu hiệu quả của thuốc benzodiazepin không chỉ phụ thuộc vào khả năng chịu đựng của người tham gia mà còn cả tâm trạng của họ, và cuối cùng là khả năng tăng cường hoặc làm giảm hiệu suất nhớ lại trí nhớ khi được kết hợp cùng nhau vượt ra ngoài phản ứng đã biết với việc sử dụng thuốc benzodiazepin hoặc ký ức liên quan đến tâm trạng của riêng bệnh nhân."
   ]
  },
  {
   "cell_type": "markdown",
   "metadata": {},
   "source": [
    "## Kiến thức nền tảng"
   ]
  },
  {
   "cell_type": "markdown",
   "metadata": {},
   "source": [
    "Đối với hầu hết những người tham gia vào một vai trò trong môi trường xã hội với nhiều áp lực và kỳ vọng, lo lắng là một sản phẩm phụ tự nhiên và đôi khi có lợi. Những người khác có thể không chống chọi được với sự lo lắng do khuynh hướng di truyền hoặc sự thao túng triệt để các chất hóa học trong não từ những trải nghiệm đau thương, tuy nhiên, lo lắng là một hiện tượng tự nhiên, cho đến khi mức độ của nó vượt quá ngưỡng của một chứng rối loạn y tế. Tổ chức Y tế Thế giới tuyên bố rằng cứ 13 người trên toàn cầu thì có 1 người mắc chứng lo âu, đây được coi là chứng rối loạn tâm thần phổ biến nhất trên toàn thế giới. Mặc dù có rất nhiều nghiên cứu được thực hiện về thuốc nhằm mục đích điều trị chứng lo âu thông qua các thuốc benzodiazepin hoặc thuốc ức chế tái hấp thu serotonin có chọn lọc, nhưng người ta vẫn biết sâu rộng về tác dụng phụ của việc sử dụng lâu dài đối với hiệu suất thu hồi trí nhớ và siêu nhận thức. Trong nghiên cứu này, Alprazolam và Triazolam sẽ được quan tâm về hiệu suất thu hồi trí nhớ.\n",
    "\n",
    "For most human beings that partake a role within a social environment with pressures and expectations, anxiety is a natural and sometimes an advantageous byproduct. Others may succumb to anxiety through a genetic disposition or a radical manipulation of brain chemistry from traumatic experiences, yet nevertheless anxiety is a natural occurrence, until its levels exceed the threshold for a medical disorder. The World Health Organization states that 1 in 13 globally suffer from anxiety which is known to be the most common mental disorder worldwide. While there are scores of research done on medication directed on treating anxiety through benzodiazepines or selective serotonin re-uptake inhibitors, extensive knowledge is known of the adverse effects of its long term use on memory recall performance and metacognition. In this study, Alprazolam and Triazolam will be of interest on memory recall performance."
   ]
  },
  {
   "cell_type": "markdown",
   "metadata": {},
   "source": [
    "Memory recall performance is attributed to numerous myelinated neurons acting concurrently from different regions in the brain for informational retrieval. However for the sake of specificity and simplicity, the concentration will be focused on the hippocampus and their interaction with benzodiazepine. Both Alprazolam (long-term effect) and Triazolam (short-term effect) are (GABA)A receptor agonists due to their ability to bind to (GABA)A receptors to lock a conformation causing the neurotransmitter GABA to have a higher affinity for the (GABA)A receptors. This process initiates the inhibitory effects of GABA leading to sedative and anxiolytic effects. These receptors are found in the subunits of the hippocampus, the hormonal organ that is also connected to emotion. The powerful influence of recalling an emotionally driven memory on an individual’s present thoughts and actions fall in line with the mood congruency effect, which is the psychological phenomenon in which an individual tends to associate future actions or thoughts that is consistent with the particular mood the memory has resurfaced onto the conscious level. Therefore, the mood an individual has during memory recall and the mood related to the memory itself is of major importance and influence on recalling performance."
   ]
  },
  {
   "cell_type": "markdown",
   "metadata": {},
   "source": [
    "Therefore, this study evaluates the effects of benzodiazepines on memory recall when being primed with happy or sad memories. According to previous research, there is evidence supporting more activation of the striatum for happy memories but higher accuracy in memory recall for sad memories. I predict that the highest dosage with Alprazolam, a long-term effect benzodiazepine, paired with a priming of happy memories prior to testing will illicit the worse performance while the control group primed with sad memories would illicit the best performance on memory recall"
   ]
  },
  {
   "cell_type": "markdown",
   "metadata": {},
   "source": [
    "## Import thư viện"
   ]
  },
  {
   "cell_type": "code",
   "execution_count": 1,
   "metadata": {
    "vscode": {
     "languageId": "r"
    }
   },
   "outputs": [
    {
     "name": "stderr",
     "output_type": "stream",
     "text": [
      "\n",
      "Attaching package: ‘dplyr’\n",
      "\n",
      "\n",
      "The following objects are masked from ‘package:stats’:\n",
      "\n",
      "    filter, lag\n",
      "\n",
      "\n",
      "The following objects are masked from ‘package:base’:\n",
      "\n",
      "    intersect, setdiff, setequal, union\n",
      "\n",
      "\n"
     ]
    }
   ],
   "source": [
    "library(dplyr)"
   ]
  },
  {
   "cell_type": "markdown",
   "metadata": {},
   "source": [
    "## Hàm phụ trợ"
   ]
  },
  {
   "cell_type": "code",
   "execution_count": null,
   "metadata": {
    "vscode": {
     "languageId": "r"
    }
   },
   "outputs": [],
   "source": [
    "remove_high_vif <- function(regr_variable, data, threshold = 5) {  \n",
    "    library(car)\n",
    "    library(dplyr)\n",
    "    \n",
    "    stop <- FALSE\n",
    "    while(stop == FALSE) {\n",
    "        # Tính VIF cho các biến độc lập\n",
    "        model <- lm(as.formula(paste(regr_variable, \"~ .\")), data = data)\n",
    "        vif_values <- vif(model)\n",
    "        # Tìm các biến có VIF cao hơn ngưỡng\n",
    "        high_vif <- which(vif_values > threshold)\n",
    "        \n",
    "        if (length(high_vif) > 0) {\n",
    "            # Loại bỏ các biến có VIF cao\n",
    "            remove_index <- which.max(high_vif)\n",
    "            rm_names <- names(data[, !names(data) %in% regr_variable])\n",
    "            rm_name <- rm_names[remove_index]\n",
    "            data <- data[, !names(data) %in% rm_name]\n",
    "        } else {\n",
    "            stop <- TRUE\n",
    "        }\n",
    "    }\n",
    "    return(data)\n",
    "}"
   ]
  },
  {
   "cell_type": "markdown",
   "metadata": {},
   "source": [
    "## Đọc dữ liệu"
   ]
  },
  {
   "cell_type": "code",
   "execution_count": 2,
   "metadata": {
    "vscode": {
     "languageId": "r"
    }
   },
   "outputs": [
    {
     "name": "stdout",
     "output_type": "stream",
     "text": [
      "'data.frame':\t198 obs. of  9 variables:\n",
      " $ first_name      : chr  \"Bastian\" \"Evan\" \"Florencia\" \"Holly\" ...\n",
      " $ last_name       : chr  \"Carrasco\" \"Carrasco\" \"Carrasco\" \"Carrasco\" ...\n",
      " $ age             : int  25 52 29 50 52 37 35 38 29 36 ...\n",
      " $ Happy_Sad_group : chr  \"H\" \"S\" \"H\" \"S\" ...\n",
      " $ Dosage          : int  1 1 1 1 1 1 1 1 1 1 ...\n",
      " $ Drug            : chr  \"A\" \"A\" \"A\" \"A\" ...\n",
      " $ Mem_Score_Before: num  63.5 41.6 59.7 51.7 47 66.4 44.1 76.3 56.2 54.8 ...\n",
      " $ Mem_Score_After : num  61.2 40.7 55.1 51.2 47.1 58.1 56 74.8 45 75.9 ...\n",
      " $ Diff            : num  -2.3 -0.9 -4.6 -0.5 0.1 -8.3 11.9 -1.5 -11.2 21.1 ...\n"
     ]
    }
   ],
   "source": [
    "# Đọc dữ liệu từ tập tin\n",
    "raw_data = read.table(\"../../data/Islander_data.csv\", header=TRUE, sep=\",\", stringsAsFactors = FALSE)\n",
    "str(raw_data)"
   ]
  },
  {
   "cell_type": "markdown",
   "metadata": {},
   "source": [
    "## Khám phá và tiền xử lý dữ liệu"
   ]
  },
  {
   "cell_type": "markdown",
   "metadata": {},
   "source": [
    "### Dữ liệu có bao nhiều dòng và bao nhiêu cột?"
   ]
  },
  {
   "cell_type": "code",
   "execution_count": 3,
   "metadata": {
    "vscode": {
     "languageId": "r"
    }
   },
   "outputs": [
    {
     "data": {
      "text/html": [
       "<style>\n",
       ".list-inline {list-style: none; margin:0; padding: 0}\n",
       ".list-inline>li {display: inline-block}\n",
       ".list-inline>li:not(:last-child)::after {content: \"\\00b7\"; padding: 0 .5ex}\n",
       "</style>\n",
       "<ol class=list-inline><li>198</li><li>9</li></ol>\n"
      ],
      "text/latex": [
       "\\begin{enumerate*}\n",
       "\\item 198\n",
       "\\item 9\n",
       "\\end{enumerate*}\n"
      ],
      "text/markdown": [
       "1. 198\n",
       "2. 9\n",
       "\n",
       "\n"
      ],
      "text/plain": [
       "[1] 198   9"
      ]
     },
     "metadata": {},
     "output_type": "display_data"
    }
   ],
   "source": [
    "# Kích thước của dữ liệu\n",
    "# Ta thấy dữ liệu có 198 dòng và 9 cột\n",
    "dim(raw_data)"
   ]
  },
  {
   "cell_type": "markdown",
   "metadata": {},
   "source": [
    "### Mỗi dòng có ý nghĩa gì? Liệu có tồn tại dòng nào mà mang ý nghĩa khác với các dòng còn lại không?"
   ]
  },
  {
   "cell_type": "markdown",
   "metadata": {},
   "source": [
    "Dựa trên thông tin của tập dữ liệu, ta thấy mỗi dòng mang ý nghĩa khác nhau, tức là mỗi quan trắc độc lập nhau."
   ]
  },
  {
   "cell_type": "markdown",
   "metadata": {},
   "source": [
    "### Dữ liệu có bị trùng lặp không?"
   ]
  },
  {
   "cell_type": "code",
   "execution_count": 4,
   "metadata": {
    "vscode": {
     "languageId": "r"
    }
   },
   "outputs": [
    {
     "data": {
      "text/html": [
       "<table class=\"dataframe\">\n",
       "<caption>A data.frame: 0 × 9</caption>\n",
       "<thead>\n",
       "\t<tr><th scope=col>first_name</th><th scope=col>last_name</th><th scope=col>age</th><th scope=col>Happy_Sad_group</th><th scope=col>Dosage</th><th scope=col>Drug</th><th scope=col>Mem_Score_Before</th><th scope=col>Mem_Score_After</th><th scope=col>Diff</th></tr>\n",
       "\t<tr><th scope=col>&lt;chr&gt;</th><th scope=col>&lt;chr&gt;</th><th scope=col>&lt;int&gt;</th><th scope=col>&lt;chr&gt;</th><th scope=col>&lt;int&gt;</th><th scope=col>&lt;chr&gt;</th><th scope=col>&lt;dbl&gt;</th><th scope=col>&lt;dbl&gt;</th><th scope=col>&lt;dbl&gt;</th></tr>\n",
       "</thead>\n",
       "<tbody>\n",
       "</tbody>\n",
       "</table>\n"
      ],
      "text/latex": [
       "A data.frame: 0 × 9\n",
       "\\begin{tabular}{lllllllll}\n",
       " first\\_name & last\\_name & age & Happy\\_Sad\\_group & Dosage & Drug & Mem\\_Score\\_Before & Mem\\_Score\\_After & Diff\\\\\n",
       " <chr> & <chr> & <int> & <chr> & <int> & <chr> & <dbl> & <dbl> & <dbl>\\\\\n",
       "\\hline\n",
       "\\end{tabular}\n"
      ],
      "text/markdown": [
       "\n",
       "A data.frame: 0 × 9\n",
       "\n",
       "| first_name &lt;chr&gt; | last_name &lt;chr&gt; | age &lt;int&gt; | Happy_Sad_group &lt;chr&gt; | Dosage &lt;int&gt; | Drug &lt;chr&gt; | Mem_Score_Before &lt;dbl&gt; | Mem_Score_After &lt;dbl&gt; | Diff &lt;dbl&gt; |\n",
       "|---|---|---|---|---|---|---|---|---|\n",
       "\n"
      ],
      "text/plain": [
       "     first_name last_name age Happy_Sad_group Dosage Drug Mem_Score_Before\n",
       "     Mem_Score_After Diff"
      ]
     },
     "metadata": {},
     "output_type": "display_data"
    }
   ],
   "source": [
    "# Kiểm tra dữ liệu trùng lặp\n",
    "duplicates <- raw_data[duplicated(raw_data), ]\n",
    "duplicate_counts <- table(raw_data[duplicated(raw_data), ])\n",
    "duplicates # Không có dữ liệu trùng lặp"
   ]
  },
  {
   "cell_type": "markdown",
   "metadata": {},
   "source": [
    "### Mỗi cột mang ý nghĩa gì?"
   ]
  },
  {
   "cell_type": "code",
   "execution_count": 5,
   "metadata": {
    "vscode": {
     "languageId": "r"
    }
   },
   "outputs": [
    {
     "name": "stdout",
     "output_type": "stream",
     "text": [
      "'data.frame':\t198 obs. of  9 variables:\n",
      " $ first_name      : chr  \"Bastian\" \"Evan\" \"Florencia\" \"Holly\" ...\n",
      " $ last_name       : chr  \"Carrasco\" \"Carrasco\" \"Carrasco\" \"Carrasco\" ...\n",
      " $ age             : int  25 52 29 50 52 37 35 38 29 36 ...\n",
      " $ Happy_Sad_group : chr  \"H\" \"S\" \"H\" \"S\" ...\n",
      " $ Dosage          : int  1 1 1 1 1 1 1 1 1 1 ...\n",
      " $ Drug            : chr  \"A\" \"A\" \"A\" \"A\" ...\n",
      " $ Mem_Score_Before: num  63.5 41.6 59.7 51.7 47 66.4 44.1 76.3 56.2 54.8 ...\n",
      " $ Mem_Score_After : num  61.2 40.7 55.1 51.2 47.1 58.1 56 74.8 45 75.9 ...\n",
      " $ Diff            : num  -2.3 -0.9 -4.6 -0.5 0.1 -8.3 11.9 -1.5 -11.2 21.1 ...\n"
     ]
    }
   ],
   "source": [
    "# Đầu tiên, ta xem xét một số quan trắc\n",
    "str(raw_data)"
   ]
  },
  {
   "cell_type": "markdown",
   "metadata": {},
   "source": [
    "Ý nghĩa từng cột:\n",
    "- `first_name`: tên của người tham gia thử nghiệm\n",
    "- `last_name`: họ của người tham gia thử nghiệm\n",
    "- `age`: tuổi (năm) của người tham gia thử nghiệm\n",
    "- `Happy_Sad_group`:  loại ký ức được tiếp xúc trước khi kiểm tra (H: vui, S: buồn)\n",
    "- `Dosage`: Mức độ hàm lượng thuốc sử dụng (1: thấp, 2: trung bình, 3: cao)\n",
    "- `Drug`: Loại thuốc sử dụng (A: Alprazolam, T: Triazolam, S: Placebo)\n",
    "    - A - Alprazolam (Xanax, Long-term) [1mg/3mg/5mg]\n",
    "    - T - Triazolam (Halcion, Short-term) [0.25mg/0.5mg/0.75mg]\n",
    "    - S - Sugar Tablet (Placebo) [1 tab/2tabs/3tabs]\n",
    "- `Mem_Score_Before`: Thời gian (giây) cần để hoàn thành bài kiểm tra trước khi tiếp xúc với thuốc chữa trầm cảm\n",
    "- `Mem_Score_After`: Thời gian (giây) cần để hoàn thành bài kiểm tra sau khi tiếp xúc với thuốc chữa trầm cảm\n",
    "- `Diff`: Chênh lệch giữa thời gian (giây) hoàn thành bài kiểm tra trước và sau khi sử dụng thuốc."
   ]
  },
  {
   "cell_type": "markdown",
   "metadata": {},
   "source": [
    "### Có cột nào có kiểu dữ liệu chưa phù hợp? Nếu có, cần chuyển đổi sang kiểu phù hợp"
   ]
  },
  {
   "cell_type": "code",
   "execution_count": 6,
   "metadata": {
    "vscode": {
     "languageId": "r"
    }
   },
   "outputs": [],
   "source": [
    "processed_data <- raw_data\n",
    "processed_data$Happy_Sad_group <- as.factor(raw_data$Happy_Sad_group)\n",
    "processed_data$Dosage <- as.factor(raw_data$Dosage)\n",
    "processed_data$Drug <- as.factor(raw_data$Drug)"
   ]
  },
  {
   "cell_type": "markdown",
   "metadata": {},
   "source": [
    "### Các cột với kiểu dữ liệu số phân bố như thế nào?"
   ]
  },
  {
   "cell_type": "code",
   "execution_count": 7,
   "metadata": {
    "vscode": {
     "languageId": "r"
    }
   },
   "outputs": [],
   "source": [
    "# Function to calculate missing ratio\n",
    "missing_ratio <- function(s) {\n",
    "  round(mean(is.na(s)) * 100, 1)\n",
    "}\n",
    "\n",
    "# Function to calculate median\n",
    "median_custom <- function(df) {\n",
    "  round(quantile(df, 0.5, na.rm = TRUE), 1)\n",
    "}\n",
    "\n",
    "# Function to calculate lower quartile\n",
    "lower_quartile <- function(df) {\n",
    "  round(quantile(df, 0.25, na.rm = TRUE), 1)\n",
    "}\n",
    "\n",
    "# Function to calculate upper quartile\n",
    "upper_quartile <- function(df) {\n",
    "  round(quantile(df, 0.75, na.rm = TRUE), 1)\n",
    "}"
   ]
  },
  {
   "cell_type": "code",
   "execution_count": 8,
   "metadata": {
    "vscode": {
     "languageId": "r"
    }
   },
   "outputs": [
    {
     "name": "stdout",
     "output_type": "stream",
     "text": [
      "  missing_ratio   min lower_quartile median upper_quartile max\n",
      "1             0  24.0           30.0   37.0           48.0  83\n",
      "2             0  27.2           46.5   54.8           68.4 110\n",
      "3             0  27.1           47.2   56.8           73.2 120\n",
      "4             0 -40.4           -3.2    1.7            5.9  49\n"
     ]
    }
   ],
   "source": [
    "# Select numerical columns\n",
    "num_col_info_df <- as.data.frame(processed_data)  %>% select_if(is.numeric)\n",
    "\n",
    "# Aggregating statistics\n",
    "num_col_info_df <- num_col_info_df %>%\n",
    "  reframe(\n",
    "    missing_ratio = sapply(., missing_ratio),\n",
    "    min = sapply(., min, na.rm = TRUE),\n",
    "    lower_quartile = sapply(., lower_quartile),\n",
    "    median = sapply(., median_custom),\n",
    "    upper_quartile = sapply(., upper_quartile),\n",
    "    max = sapply(., max, na.rm = TRUE)\n",
    "  )\n",
    "\n",
    "print(num_col_info_df)"
   ]
  },
  {
   "cell_type": "code",
   "execution_count": 9,
   "metadata": {
    "vscode": {
     "languageId": "r"
    }
   },
   "outputs": [
    {
     "data": {
      "text/plain": [
       "      age        Mem_Score_Before Mem_Score_After       Diff        \n",
       " Min.   :24.00   Min.   : 27.20   Min.   : 27.10   Min.   :-40.400  \n",
       " 1st Qu.:30.00   1st Qu.: 46.52   1st Qu.: 47.17   1st Qu.: -3.175  \n",
       " Median :37.00   Median : 54.80   Median : 56.75   Median :  1.700  \n",
       " Mean   :39.53   Mean   : 57.97   Mean   : 60.92   Mean   :  2.955  \n",
       " 3rd Qu.:48.00   3rd Qu.: 68.40   3rd Qu.: 73.25   3rd Qu.:  5.925  \n",
       " Max.   :83.00   Max.   :110.00   Max.   :120.00   Max.   : 49.000  "
      ]
     },
     "metadata": {},
     "output_type": "display_data"
    }
   ],
   "source": [
    "summary(as.data.frame(processed_data)  %>% select_if(is.numeric))"
   ]
  },
  {
   "cell_type": "markdown",
   "metadata": {},
   "source": [
    "### Các cột với kiểu dữ liệu phân loại phân bố như thế nào?"
   ]
  },
  {
   "cell_type": "code",
   "execution_count": 10,
   "metadata": {
    "vscode": {
     "languageId": "r"
    }
   },
   "outputs": [],
   "source": [
    "# Function to calculate missing ratio\n",
    "missing_ratio <- function(s) {\n",
    "  round(mean(is.na(s)) * 100, 1)\n",
    "}\n",
    "\n",
    "# Function to calculate number of unique values\n",
    "num_values <- function(s) {\n",
    "  s <- strsplit(s, \";\")\n",
    "  s <- unlist(s)\n",
    "  length(unique(s))\n",
    "}\n",
    "\n",
    "# Function to calculate value ratios\n",
    "value_ratios <- function(s) {\n",
    "  s <- strsplit(s, \";\")\n",
    "  s <- unlist(s)\n",
    "  totalCount <- sum(!is.na(s))\n",
    "  value_counts <- table(s)\n",
    "  ratios <- round((value_counts / totalCount) * 100, 1)\n",
    "  as.list(ratios)\n",
    "}"
   ]
  },
  {
   "cell_type": "code",
   "execution_count": 11,
   "metadata": {
    "vscode": {
     "languageId": "r"
    }
   },
   "outputs": [
    {
     "name": "stdout",
     "output_type": "stream",
     "text": [
      "                         column missing_ratio num_values value_ratios\n",
      "first_name           first_name             0        139 0.5, 1, ....\n",
      "last_name             last_name             0         18 1.5, 21.....\n",
      "Happy_Sad_group Happy_Sad_group             0          2       50, 50\n",
      "Drug                       Drug             0          3 33.8, 33....\n"
     ]
    }
   ],
   "source": [
    "# Select categorical columns (assuming character columns as categorical)\n",
    "cat_col_info_df <-  as.data.frame(raw_data)  %>%\n",
    "  select_if(is.character)\n",
    "\n",
    "# Function to aggregate results for each column\n",
    "aggregate_results <- function(df) {\n",
    "  result <- data.frame(\n",
    "    column = names(df),\n",
    "    missing_ratio = sapply(df, missing_ratio),\n",
    "    num_values = sapply(df, num_values),\n",
    "    value_ratios = I(lapply(df, value_ratios))\n",
    "  )\n",
    "  result\n",
    "}\n",
    "\n",
    "# Apply the aggregation function\n",
    "cat_col_info_df <- aggregate_results(cat_col_info_df)\n",
    "\n",
    "# Print the result\n",
    "print(cat_col_info_df)"
   ]
  },
  {
   "cell_type": "code",
   "execution_count": 15,
   "metadata": {
    "vscode": {
     "languageId": "r"
    }
   },
   "outputs": [
    {
     "name": "stdout",
     "output_type": "stream",
     "text": [
      "  first_name         last_name         Happy_Sad_group        Drug          \n",
      " Length:198         Length:198         Length:198         Length:198        \n",
      " Class :character   Class :character   Class :character   Class :character  \n",
      " Mode  :character   Mode  :character   Mode  :character   Mode  :character  \n"
     ]
    }
   ],
   "source": [
    "print(summary(as.data.frame(raw_data)  %>% select_if(is.character)))"
   ]
  },
  {
   "cell_type": "markdown",
   "metadata": {},
   "source": [
    "Kiểm tra lại với hàm summary của R"
   ]
  },
  {
   "cell_type": "code",
   "execution_count": 14,
   "metadata": {
    "vscode": {
     "languageId": "r"
    }
   },
   "outputs": [
    {
     "name": "stdout",
     "output_type": "stream",
     "text": [
      "  first_name         last_name              age        Happy_Sad_group Dosage\n",
      " Length:198         Length:198         Min.   :24.00   H:99            1:67  \n",
      " Class :character   Class :character   1st Qu.:30.00   S:99            2:66  \n",
      " Mode  :character   Mode  :character   Median :37.00                   3:65  \n",
      "                                       Mean   :39.53                         \n",
      "                                       3rd Qu.:48.00                         \n",
      "                                       Max.   :83.00                         \n",
      " Drug   Mem_Score_Before Mem_Score_After       Diff        \n",
      " A:67   Min.   : 27.20   Min.   : 27.10   Min.   :-40.400  \n",
      " S:66   1st Qu.: 46.52   1st Qu.: 47.17   1st Qu.: -3.175  \n",
      " T:65   Median : 54.80   Median : 56.75   Median :  1.700  \n",
      "        Mean   : 57.97   Mean   : 60.92   Mean   :  2.955  \n",
      "        3rd Qu.: 68.40   3rd Qu.: 73.25   3rd Qu.:  5.925  \n",
      "        Max.   :110.00   Max.   :120.00   Max.   : 49.000  \n"
     ]
    }
   ],
   "source": [
    "print(summary(processed_data))"
   ]
  }
 ],
 "metadata": {
  "kernelspec": {
   "display_name": "R",
   "language": "R",
   "name": "ir"
  },
  "language_info": {
   "codemirror_mode": "r",
   "file_extension": ".r",
   "mimetype": "text/x-r-source",
   "name": "R",
   "pygments_lexer": "r",
   "version": "4.4.1"
  }
 },
 "nbformat": 4,
 "nbformat_minor": 2
}
