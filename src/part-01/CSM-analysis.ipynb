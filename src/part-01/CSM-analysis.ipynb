{
 "cells": [
  {
   "cell_type": "markdown",
   "metadata": {},
   "source": [
    "# Phân tích phim truyền thông và xã hội"
   ]
  },
  {
   "cell_type": "markdown",
   "metadata": {},
   "source": [
    "Thành viên:\n",
    "- 23C24004 - Lê Nhựt Nam\n",
    "- 23C24005 - Phạm Thừa Tiểu Thành"
   ]
  },
  {
   "cell_type": "markdown",
   "metadata": {},
   "source": [
    "## Import thư viện"
   ]
  },
  {
   "cell_type": "code",
   "execution_count": 1,
   "metadata": {
    "vscode": {
     "languageId": "r"
    }
   },
   "outputs": [
    {
     "name": "stderr",
     "output_type": "stream",
     "text": [
      "\n",
      "Attaching package: ‘dplyr’\n",
      "\n",
      "\n",
      "The following objects are masked from ‘package:stats’:\n",
      "\n",
      "    filter, lag\n",
      "\n",
      "\n",
      "The following objects are masked from ‘package:base’:\n",
      "\n",
      "    intersect, setdiff, setequal, union\n",
      "\n",
      "\n"
     ]
    }
   ],
   "source": [
    "library(dplyr)\n",
    "library(tidyr)\n",
    "library(readxl)"
   ]
  },
  {
   "cell_type": "markdown",
   "metadata": {},
   "source": [
    "## Hàm phụ trợ"
   ]
  },
  {
   "cell_type": "code",
   "execution_count": null,
   "metadata": {
    "vscode": {
     "languageId": "r"
    }
   },
   "outputs": [],
   "source": [
    "remove_high_vif <- function(regr_variable, data, threshold = 5) {  \n",
    "    library(car)\n",
    "    library(dplyr)\n",
    "    \n",
    "    stop <- FALSE\n",
    "    while(stop == FALSE) {\n",
    "        # Tính VIF cho các biến độc lập\n",
    "        model <- lm(as.formula(paste(regr_variable, \"~ .\")), data = data)\n",
    "        vif_values <- vif(model)\n",
    "        # Tìm các biến có VIF cao hơn ngưỡng\n",
    "        high_vif <- which(vif_values > threshold)\n",
    "        \n",
    "        if (length(high_vif) > 0) {\n",
    "            # Loại bỏ các biến có VIF cao\n",
    "            remove_index <- which.max(high_vif)\n",
    "            rm_names <- names(data[, !names(data) %in% regr_variable])\n",
    "            rm_name <- rm_names[remove_index]\n",
    "            data <- data[, !names(data) %in% rm_name]\n",
    "        } else {\n",
    "            stop <- TRUE\n",
    "        }\n",
    "    }\n",
    "    return(data)\n",
    "}"
   ]
  },
  {
   "cell_type": "markdown",
   "metadata": {},
   "source": [
    "## Đọc dữ liệu"
   ]
  },
  {
   "cell_type": "code",
   "execution_count": 4,
   "metadata": {
    "vscode": {
     "languageId": "r"
    }
   },
   "outputs": [
    {
     "name": "stdout",
     "output_type": "stream",
     "text": [
      "tibble [231 × 14] (S3: tbl_df/tbl/data.frame)\n",
      " $ Movie              : chr [1:231] \"13 Sins\" \"22 Jump Street\" \"3 Days to Kill\" \"300: Rise of an Empire\" ...\n",
      " $ Year               : num [1:231] 2014 2014 2014 2014 2014 ...\n",
      " $ Ratings            : num [1:231] 6.3 7.1 6.2 6.3 4.7 4.6 6.1 7.1 6.5 6.1 ...\n",
      " $ Genre              : num [1:231] 8 1 1 1 8 3 8 1 10 8 ...\n",
      " $ Gross              : num [1:231] 9.13e+03 1.92e+08 3.07e+07 1.06e+08 1.73e+07 2.90e+04 4.26e+07 5.75e+06 2.60e+07 4.86e+07 ...\n",
      " $ Budget             : num [1:231] 4.00e+06 5.00e+07 2.80e+07 1.10e+08 3.50e+06 5.00e+05 4.00e+07 2.00e+07 2.80e+07 1.25e+07 ...\n",
      " $ Screens            : num [1:231] 45 3306 2872 3470 2310 ...\n",
      " $ Sequel             : num [1:231] 1 2 1 2 2 1 1 1 1 1 ...\n",
      " $ Sentiment          : num [1:231] 0 2 0 0 0 0 0 2 3 0 ...\n",
      " $ Views              : num [1:231] 3280543 583289 304861 452917 3145573 ...\n",
      " $ Likes              : num [1:231] 4632 3465 328 2429 12163 ...\n",
      " $ Dislikes           : num [1:231] 425 61 34 132 610 7 419 197 419 532 ...\n",
      " $ Comments           : num [1:231] 636 186 47 590 1082 ...\n",
      " $ Aggregate Followers: num [1:231] 1120000 12350000 483000 568000 1923800 ...\n"
     ]
    }
   ],
   "source": [
    "# Đọc dữ liệu từ tập tin\n",
    "raw_data = read_excel(\"../../data/CSM.xlsx\", sheet = 1)\n",
    "str(raw_data)"
   ]
  },
  {
   "cell_type": "markdown",
   "metadata": {},
   "source": [
    "## Khám phá và tiền xử lý dữ liệu"
   ]
  },
  {
   "cell_type": "markdown",
   "metadata": {},
   "source": [
    "### Dữ liệu có bao nhiều dòng và bao nhiêu cột?"
   ]
  },
  {
   "cell_type": "code",
   "execution_count": 5,
   "metadata": {
    "vscode": {
     "languageId": "r"
    }
   },
   "outputs": [
    {
     "data": {
      "text/html": [
       "<style>\n",
       ".list-inline {list-style: none; margin:0; padding: 0}\n",
       ".list-inline>li {display: inline-block}\n",
       ".list-inline>li:not(:last-child)::after {content: \"\\00b7\"; padding: 0 .5ex}\n",
       "</style>\n",
       "<ol class=list-inline><li>231</li><li>14</li></ol>\n"
      ],
      "text/latex": [
       "\\begin{enumerate*}\n",
       "\\item 231\n",
       "\\item 14\n",
       "\\end{enumerate*}\n"
      ],
      "text/markdown": [
       "1. 231\n",
       "2. 14\n",
       "\n",
       "\n"
      ],
      "text/plain": [
       "[1] 231  14"
      ]
     },
     "metadata": {},
     "output_type": "display_data"
    }
   ],
   "source": [
    "# Kích thước của dữ liệu\n",
    "# Ta thấy dữ liệu có 231 dòng và 14 cột\n",
    "dim(raw_data)"
   ]
  },
  {
   "cell_type": "markdown",
   "metadata": {},
   "source": [
    "### Mỗi dòng có ý nghĩa gì? Liệu có tồn tại dòng nào mà mang ý nghĩa khác với các dòng còn lại không?"
   ]
  },
  {
   "cell_type": "markdown",
   "metadata": {},
   "source": [
    "Dựa trên thông tin của tập dữ liệu, ta thấy mỗi dòng mang ý nghĩa khác nhau, tức là mỗi quan trắc độc lập nhau."
   ]
  },
  {
   "cell_type": "markdown",
   "metadata": {},
   "source": [
    "### Dữ liệu có bị trùng lặp không?"
   ]
  },
  {
   "cell_type": "code",
   "execution_count": 6,
   "metadata": {
    "vscode": {
     "languageId": "r"
    }
   },
   "outputs": [
    {
     "data": {
      "text/html": [
       "<table class=\"dataframe\">\n",
       "<caption>A tibble: 0 × 14</caption>\n",
       "<thead>\n",
       "\t<tr><th scope=col>Movie</th><th scope=col>Year</th><th scope=col>Ratings</th><th scope=col>Genre</th><th scope=col>Gross</th><th scope=col>Budget</th><th scope=col>Screens</th><th scope=col>Sequel</th><th scope=col>Sentiment</th><th scope=col>Views</th><th scope=col>Likes</th><th scope=col>Dislikes</th><th scope=col>Comments</th><th scope=col>Aggregate Followers</th></tr>\n",
       "\t<tr><th scope=col>&lt;chr&gt;</th><th scope=col>&lt;dbl&gt;</th><th scope=col>&lt;dbl&gt;</th><th scope=col>&lt;dbl&gt;</th><th scope=col>&lt;dbl&gt;</th><th scope=col>&lt;dbl&gt;</th><th scope=col>&lt;dbl&gt;</th><th scope=col>&lt;dbl&gt;</th><th scope=col>&lt;dbl&gt;</th><th scope=col>&lt;dbl&gt;</th><th scope=col>&lt;dbl&gt;</th><th scope=col>&lt;dbl&gt;</th><th scope=col>&lt;dbl&gt;</th><th scope=col>&lt;dbl&gt;</th></tr>\n",
       "</thead>\n",
       "<tbody>\n",
       "</tbody>\n",
       "</table>\n"
      ],
      "text/latex": [
       "A tibble: 0 × 14\n",
       "\\begin{tabular}{llllllllllllll}\n",
       " Movie & Year & Ratings & Genre & Gross & Budget & Screens & Sequel & Sentiment & Views & Likes & Dislikes & Comments & Aggregate Followers\\\\\n",
       " <chr> & <dbl> & <dbl> & <dbl> & <dbl> & <dbl> & <dbl> & <dbl> & <dbl> & <dbl> & <dbl> & <dbl> & <dbl> & <dbl>\\\\\n",
       "\\hline\n",
       "\\end{tabular}\n"
      ],
      "text/markdown": [
       "\n",
       "A tibble: 0 × 14\n",
       "\n",
       "| Movie &lt;chr&gt; | Year &lt;dbl&gt; | Ratings &lt;dbl&gt; | Genre &lt;dbl&gt; | Gross &lt;dbl&gt; | Budget &lt;dbl&gt; | Screens &lt;dbl&gt; | Sequel &lt;dbl&gt; | Sentiment &lt;dbl&gt; | Views &lt;dbl&gt; | Likes &lt;dbl&gt; | Dislikes &lt;dbl&gt; | Comments &lt;dbl&gt; | Aggregate Followers &lt;dbl&gt; |\n",
       "|---|---|---|---|---|---|---|---|---|---|---|---|---|---|\n",
       "\n"
      ],
      "text/plain": [
       "     Movie Year Ratings Genre Gross Budget Screens Sequel Sentiment Views Likes\n",
       "     Dislikes Comments Aggregate Followers"
      ]
     },
     "metadata": {},
     "output_type": "display_data"
    }
   ],
   "source": [
    "# Kiểm tra dữ liệu trùng lặp\n",
    "duplicates <- raw_data[duplicated(raw_data), ]\n",
    "duplicate_counts <- table(raw_data[duplicated(raw_data), ])\n",
    "duplicates # Không có dữ liệu trùng lặp"
   ]
  },
  {
   "cell_type": "markdown",
   "metadata": {},
   "source": [
    "### Mỗi cột mang ý nghĩa gì?"
   ]
  },
  {
   "cell_type": "code",
   "execution_count": 7,
   "metadata": {
    "vscode": {
     "languageId": "r"
    }
   },
   "outputs": [
    {
     "name": "stdout",
     "output_type": "stream",
     "text": [
      "tibble [231 × 14] (S3: tbl_df/tbl/data.frame)\n",
      " $ Movie              : chr [1:231] \"13 Sins\" \"22 Jump Street\" \"3 Days to Kill\" \"300: Rise of an Empire\" ...\n",
      " $ Year               : num [1:231] 2014 2014 2014 2014 2014 ...\n",
      " $ Ratings            : num [1:231] 6.3 7.1 6.2 6.3 4.7 4.6 6.1 7.1 6.5 6.1 ...\n",
      " $ Genre              : num [1:231] 8 1 1 1 8 3 8 1 10 8 ...\n",
      " $ Gross              : num [1:231] 9.13e+03 1.92e+08 3.07e+07 1.06e+08 1.73e+07 2.90e+04 4.26e+07 5.75e+06 2.60e+07 4.86e+07 ...\n",
      " $ Budget             : num [1:231] 4.00e+06 5.00e+07 2.80e+07 1.10e+08 3.50e+06 5.00e+05 4.00e+07 2.00e+07 2.80e+07 1.25e+07 ...\n",
      " $ Screens            : num [1:231] 45 3306 2872 3470 2310 ...\n",
      " $ Sequel             : num [1:231] 1 2 1 2 2 1 1 1 1 1 ...\n",
      " $ Sentiment          : num [1:231] 0 2 0 0 0 0 0 2 3 0 ...\n",
      " $ Views              : num [1:231] 3280543 583289 304861 452917 3145573 ...\n",
      " $ Likes              : num [1:231] 4632 3465 328 2429 12163 ...\n",
      " $ Dislikes           : num [1:231] 425 61 34 132 610 7 419 197 419 532 ...\n",
      " $ Comments           : num [1:231] 636 186 47 590 1082 ...\n",
      " $ Aggregate Followers: num [1:231] 1120000 12350000 483000 568000 1923800 ...\n"
     ]
    }
   ],
   "source": [
    "# Đầu tiên, ta xem xét một số quan trắc\n",
    "str(raw_data)"
   ]
  },
  {
   "cell_type": "markdown",
   "metadata": {},
   "source": [
    "Ý nghĩa từng cột:\n",
    "- `Movie`: tên phim\n",
    "- `Year`: năm phát hành\n",
    "- `Ratings`: điểm đánh giá\n",
    "- `Genre`: thể loại phim\n",
    "- `Gross`: tổng doanh thu\n",
    "- `Budget`: tổng chi phí\n",
    "- `Screens`: số rạp chiếu\n",
    "- `Sequel`: phần phim\n",
    "- `Sentiment`: ý kiến khán giả\n",
    "- `Views`: số lượt xem\n",
    "- `Likes`: số lượt thích\n",
    "- `Dislikes`: số lượt chê\n",
    "- `Comments`: số bình luận\n",
    "- `Aggregate Followers`: số người theo dõi"
   ]
  }
 ],
 "metadata": {
  "kernelspec": {
   "display_name": "R",
   "language": "R",
   "name": "ir"
  },
  "language_info": {
   "codemirror_mode": "r",
   "file_extension": ".r",
   "mimetype": "text/x-r-source",
   "name": "R",
   "pygments_lexer": "r",
   "version": "4.4.1"
  }
 },
 "nbformat": 4,
 "nbformat_minor": 2
}
